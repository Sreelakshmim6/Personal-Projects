{
  "nbformat": 4,
  "nbformat_minor": 0,
  "metadata": {
    "kernelspec": {
      "display_name": "Python 3",
      "language": "python",
      "name": "python3"
    },
    "language_info": {
      "codemirror_mode": {
        "name": "ipython",
        "version": 3
      },
      "file_extension": ".py",
      "mimetype": "text/x-python",
      "name": "python",
      "nbconvert_exporter": "python",
      "pygments_lexer": "ipython3",
      "version": "3.7.7"
    },
    "colab": {
      "name": "Rocket_Lander.ipynb",
      "provenance": [],
      "include_colab_link": true
    }
  },
  "cells": [
    {
      "cell_type": "markdown",
      "metadata": {
        "id": "view-in-github",
        "colab_type": "text"
      },
      "source": [
        "<a href=\"https://colab.research.google.com/github/Sreelakshmim6/Personal-Projects/blob/main/Rocket_Lander.ipynb\" target=\"_parent\"><img src=\"https://colab.research.google.com/assets/colab-badge.svg\" alt=\"Open In Colab\"/></a>"
      ]
    },
    {
      "cell_type": "code",
      "metadata": {
        "id": "RbR3k-sZXnXK"
      },
      "source": [
        "import math\n",
        "from random import seed\n",
        "from random import random\n",
        "#lm=0.8,a=0.5,lr=0.6\n",
        "lm=0.8\n",
        "alpha=0.5\n",
        "lr=0.6\n"
      ],
      "execution_count": null,
      "outputs": []
    },
    {
      "cell_type": "code",
      "metadata": {
        "id": "_vC8Rw0nXnXR"
      },
      "source": [
        "#Initialize random weights between input layer to hidden layer\n",
        "#Initialize random weights between output layer to hidden layer"
      ],
      "execution_count": null,
      "outputs": []
    },
    {
      "cell_type": "code",
      "metadata": {
        "id": "SqerJxRUXnXS"
      },
      "source": [
        "inpw=list()\n",
        "for x in range(n_hidden):\n",
        "    input_w=[random() for i in range(n_inputs)] #number of neurons in the input layer\n",
        "    inpw.append(input_w)\n",
        "opw=list()\n",
        "for x in range(n_outputs):\n",
        "    output_w=[random() for i in range(n_hidden)] #number of neurons in the hidden layer\n",
        "    opw.append(output_w)\n"
      ],
      "execution_count": null,
      "outputs": []
    },
    {
      "cell_type": "code",
      "metadata": {
        "id": "bUOK3noSXnXS",
        "outputId": "bbbfe906-f594-4ea9-be8a-b2a4fae6f84d"
      },
      "source": [
        "print(inpw,\"\\n\\n\",opw,\"\\n\")"
      ],
      "execution_count": null,
      "outputs": [
        {
          "output_type": "stream",
          "text": [
            "[[0.04256124945266837, 0.7255740626767501], [0.08044468322531695, 0.49071034005914904], [0.35737165903557666, 0.05599433129938547], [0.43255456782705726, 0.13805792756009205]] \n",
            "\n",
            " [[0.15912316141079885, 0.662143169924033, 0.4175098162530324, 0.7107939005058486], [0.21546438016120362, 0.6692569572792864, 0.9909681070957168, 0.5853521572472865]] \n",
            "\n"
          ],
          "name": "stdout"
        }
      ]
    },
    {
      "cell_type": "code",
      "metadata": {
        "id": "XGPvdvWgXnXT"
      },
      "source": [
        "#to generate list of zeros\n",
        "def zeros(n):\n",
        "    list_z = [0] * n\n",
        "    return list_z"
      ],
      "execution_count": null,
      "outputs": []
    },
    {
      "cell_type": "code",
      "metadata": {
        "id": "k7PIJ72aXnXU"
      },
      "source": [
        "def dot(x,y):\n",
        "    return sum(i*j for (i, j) in zip(x, y))"
      ],
      "execution_count": null,
      "outputs": []
    },
    {
      "cell_type": "code",
      "metadata": {
        "id": "nOKoiXEiXnXU"
      },
      "source": [
        "# Activation Function\n",
        "def sigmoid(activation,lm):\n",
        "    return 1.0 / (1.0 + math.exp(-(lm*activation)))"
      ],
      "execution_count": null,
      "outputs": []
    },
    {
      "cell_type": "code",
      "metadata": {
        "id": "YyfxksLGXnXU"
      },
      "source": [
        "#Error function used\n",
        "def RMSE(error):\n",
        "    sum_e = 0.0\n",
        "       \n",
        "    for k in range(1):\n",
        "        for j in range(1):\n",
        "            for i in range(len(error)):\n",
        "                pred_error =  (((error[i][j])**2)+((error[i][j+1])**2))/2\n",
        "                #print(pred_error)\n",
        "                sum_e += pred_error\n",
        "                #print(sum_e)\n",
        "    # now normalize\n",
        "    mean_e = sum_e / float(len(error))\n",
        "    return math.sqrt(mean_e)"
      ],
      "execution_count": null,
      "outputs": []
    },
    {
      "cell_type": "code",
      "metadata": {
        "id": "6aiB2SLeXnXV"
      },
      "source": [
        "#Weight Updation\n",
        "def wu(x,y):\n",
        "    wu=[]\n",
        "    for i in range(len(x)):\n",
        "        d=[]\n",
        "        for k in range(len(y[0])):\n",
        "            f=x[i][k]+y[i][k]\n",
        "            d.append(f)\n",
        "        wu.append(d)\n",
        "    return wu"
      ],
      "execution_count": null,
      "outputs": []
    },
    {
      "cell_type": "code",
      "metadata": {
        "id": "qO2TI11uXnXV"
      },
      "source": [
        "n_hidden=4"
      ],
      "execution_count": null,
      "outputs": []
    },
    {
      "cell_type": "code",
      "metadata": {
        "id": "w_gAq8qiXnXV"
      },
      "source": [
        "n_inputs=2"
      ],
      "execution_count": null,
      "outputs": []
    },
    {
      "cell_type": "code",
      "metadata": {
        "id": "FuZ2dhVKXnXW"
      },
      "source": [
        "n_outputs=2"
      ],
      "execution_count": null,
      "outputs": []
    },
    {
      "cell_type": "markdown",
      "metadata": {
        "id": "tJqUm6UuXnXW"
      },
      "source": [
        "# Preprocessing"
      ]
    },
    {
      "cell_type": "code",
      "metadata": {
        "id": "8nWUxL5uXnXW",
        "outputId": "416dab22-3985-44cb-b6fd-62fd094d9ec1"
      },
      "source": [
        "import pandas as pd\n",
        "\n",
        "dataC=pd.read_csv(\"C:\\\\Users\\\\Siri\\\\Desktop\\\\ANN\\\\ce889assignment-master\\\\ce889_dataCollection.csv\",header=None)\n",
        "dataC=dataC.drop_duplicates()\n",
        "dataC.dropna(inplace=True)\n",
        "#normalising\n",
        "dataC=dataC.apply(lambda x: ( x - x.min()) / (x.max() - x.min()))\n",
        "dataC.head()"
      ],
      "execution_count": null,
      "outputs": [
        {
          "output_type": "execute_result",
          "data": {
            "text/html": [
              "<div>\n",
              "<style scoped>\n",
              "    .dataframe tbody tr th:only-of-type {\n",
              "        vertical-align: middle;\n",
              "    }\n",
              "\n",
              "    .dataframe tbody tr th {\n",
              "        vertical-align: top;\n",
              "    }\n",
              "\n",
              "    .dataframe thead th {\n",
              "        text-align: right;\n",
              "    }\n",
              "</style>\n",
              "<table border=\"1\" class=\"dataframe\">\n",
              "  <thead>\n",
              "    <tr style=\"text-align: right;\">\n",
              "      <th></th>\n",
              "      <th>0</th>\n",
              "      <th>1</th>\n",
              "      <th>2</th>\n",
              "      <th>3</th>\n",
              "    </tr>\n",
              "  </thead>\n",
              "  <tbody>\n",
              "    <tr>\n",
              "      <th>0</th>\n",
              "      <td>0.111756</td>\n",
              "      <td>0.443813</td>\n",
              "      <td>0.447712</td>\n",
              "      <td>0.581664</td>\n",
              "    </tr>\n",
              "    <tr>\n",
              "      <th>1</th>\n",
              "      <td>0.111756</td>\n",
              "      <td>0.443813</td>\n",
              "      <td>0.440348</td>\n",
              "      <td>0.585683</td>\n",
              "    </tr>\n",
              "    <tr>\n",
              "      <th>2</th>\n",
              "      <td>0.111722</td>\n",
              "      <td>0.443972</td>\n",
              "      <td>0.432984</td>\n",
              "      <td>0.581664</td>\n",
              "    </tr>\n",
              "    <tr>\n",
              "      <th>3</th>\n",
              "      <td>0.111722</td>\n",
              "      <td>0.444289</td>\n",
              "      <td>0.425620</td>\n",
              "      <td>0.585683</td>\n",
              "    </tr>\n",
              "    <tr>\n",
              "      <th>4</th>\n",
              "      <td>0.111688</td>\n",
              "      <td>0.444765</td>\n",
              "      <td>0.418256</td>\n",
              "      <td>0.581664</td>\n",
              "    </tr>\n",
              "  </tbody>\n",
              "</table>\n",
              "</div>"
            ],
            "text/plain": [
              "          0         1         2         3\n",
              "0  0.111756  0.443813  0.447712  0.581664\n",
              "1  0.111756  0.443813  0.440348  0.585683\n",
              "2  0.111722  0.443972  0.432984  0.581664\n",
              "3  0.111722  0.444289  0.425620  0.585683\n",
              "4  0.111688  0.444765  0.418256  0.581664"
            ]
          },
          "metadata": {
            "tags": []
          },
          "execution_count": 440
        }
      ]
    },
    {
      "cell_type": "code",
      "metadata": {
        "id": "XY1NTnvEXnXX",
        "outputId": "37b1aa80-3dba-494f-99ed-11dd9f372dce"
      },
      "source": [
        "t_size = int(0.7 * len(dataC)) #70-30 Split\n",
        "mix = dataC.sample(frac=1)\n",
        "t_set = mix[:t_size]  #Shuffling index and randomly selecting the data for split\n",
        "val_set = mix[t_size:]\n",
        "t_set.to_csv('C:\\\\Users\\\\Siri\\\\Desktop\\\\ANN\\\\ce889assignment-master\\\\TrainingSet.csv',index=False,header=None)\n",
        "val_set.to_csv('C:\\\\Users\\\\Siri\\\\Desktop\\\\ANN\\\\ce889assignment-master\\\\ValidationSet.csv',index=False,header=None)\n",
        "\n",
        "dataC.head(10)"
      ],
      "execution_count": null,
      "outputs": [
        {
          "output_type": "execute_result",
          "data": {
            "text/html": [
              "<div>\n",
              "<style scoped>\n",
              "    .dataframe tbody tr th:only-of-type {\n",
              "        vertical-align: middle;\n",
              "    }\n",
              "\n",
              "    .dataframe tbody tr th {\n",
              "        vertical-align: top;\n",
              "    }\n",
              "\n",
              "    .dataframe thead th {\n",
              "        text-align: right;\n",
              "    }\n",
              "</style>\n",
              "<table border=\"1\" class=\"dataframe\">\n",
              "  <thead>\n",
              "    <tr style=\"text-align: right;\">\n",
              "      <th></th>\n",
              "      <th>0</th>\n",
              "      <th>1</th>\n",
              "      <th>2</th>\n",
              "      <th>3</th>\n",
              "    </tr>\n",
              "  </thead>\n",
              "  <tbody>\n",
              "    <tr>\n",
              "      <th>0</th>\n",
              "      <td>0.111756</td>\n",
              "      <td>0.443813</td>\n",
              "      <td>0.447712</td>\n",
              "      <td>0.581664</td>\n",
              "    </tr>\n",
              "    <tr>\n",
              "      <th>1</th>\n",
              "      <td>0.111756</td>\n",
              "      <td>0.443813</td>\n",
              "      <td>0.440348</td>\n",
              "      <td>0.585683</td>\n",
              "    </tr>\n",
              "    <tr>\n",
              "      <th>2</th>\n",
              "      <td>0.111722</td>\n",
              "      <td>0.443972</td>\n",
              "      <td>0.432984</td>\n",
              "      <td>0.581664</td>\n",
              "    </tr>\n",
              "    <tr>\n",
              "      <th>3</th>\n",
              "      <td>0.111722</td>\n",
              "      <td>0.444289</td>\n",
              "      <td>0.425620</td>\n",
              "      <td>0.585683</td>\n",
              "    </tr>\n",
              "    <tr>\n",
              "      <th>4</th>\n",
              "      <td>0.111688</td>\n",
              "      <td>0.444765</td>\n",
              "      <td>0.418256</td>\n",
              "      <td>0.581664</td>\n",
              "    </tr>\n",
              "    <tr>\n",
              "      <th>5</th>\n",
              "      <td>0.111688</td>\n",
              "      <td>0.445399</td>\n",
              "      <td>0.410892</td>\n",
              "      <td>0.585683</td>\n",
              "    </tr>\n",
              "    <tr>\n",
              "      <th>6</th>\n",
              "      <td>0.111654</td>\n",
              "      <td>0.446192</td>\n",
              "      <td>0.403529</td>\n",
              "      <td>0.581664</td>\n",
              "    </tr>\n",
              "    <tr>\n",
              "      <th>7</th>\n",
              "      <td>0.111654</td>\n",
              "      <td>0.447144</td>\n",
              "      <td>0.396165</td>\n",
              "      <td>0.585683</td>\n",
              "    </tr>\n",
              "    <tr>\n",
              "      <th>8</th>\n",
              "      <td>0.111620</td>\n",
              "      <td>0.448254</td>\n",
              "      <td>0.388801</td>\n",
              "      <td>0.581664</td>\n",
              "    </tr>\n",
              "    <tr>\n",
              "      <th>9</th>\n",
              "      <td>0.111620</td>\n",
              "      <td>0.449523</td>\n",
              "      <td>0.381437</td>\n",
              "      <td>0.585683</td>\n",
              "    </tr>\n",
              "  </tbody>\n",
              "</table>\n",
              "</div>"
            ],
            "text/plain": [
              "          0         1         2         3\n",
              "0  0.111756  0.443813  0.447712  0.581664\n",
              "1  0.111756  0.443813  0.440348  0.585683\n",
              "2  0.111722  0.443972  0.432984  0.581664\n",
              "3  0.111722  0.444289  0.425620  0.585683\n",
              "4  0.111688  0.444765  0.418256  0.581664\n",
              "5  0.111688  0.445399  0.410892  0.585683\n",
              "6  0.111654  0.446192  0.403529  0.581664\n",
              "7  0.111654  0.447144  0.396165  0.585683\n",
              "8  0.111620  0.448254  0.388801  0.581664\n",
              "9  0.111620  0.449523  0.381437  0.585683"
            ]
          },
          "metadata": {
            "tags": []
          },
          "execution_count": 441
        }
      ]
    },
    {
      "cell_type": "markdown",
      "metadata": {
        "id": "ED_3InIKXnXX"
      },
      "source": [
        "# feedforward propagation and back propagation"
      ]
    },
    {
      "cell_type": "code",
      "metadata": {
        "scrolled": false,
        "id": "diPvvJn9XnXX",
        "outputId": "a70ade35-f7f3-4907-d18d-e0147ffe5f7d"
      },
      "source": [
        "epoch=77\n",
        "listt=[]\n",
        "listv=[]\n",
        "\n",
        "for epoch_number in range(epoch):\n",
        "    dw1=[]\n",
        "    for i in range(n_outputs):\n",
        "        output_dw=zeros(n_hidden)\n",
        "        dw1.append(output_dw)\n",
        "    dw0=[]\n",
        "    for i in range(n_hidden):\n",
        "        hidden_dw=zeros(n_inputs)\n",
        "        dw0.append(hidden_dw)\n",
        "    error_list=[]\n",
        "    tFile = open(\"C:\\\\Users\\\\Siri\\\\Desktop\\\\ANN\\\\ce889assignment-master\\\\TrainingSet.csv\", \"r\")\n",
        "    for line in tFile.readlines():\n",
        "        \n",
        "        x= line.rstrip().split(\",\") # access values of line and divide them into a list \n",
        "        inputs=[x[0],x[1]]\n",
        "        for i in range(0, len(inputs)): \n",
        "            inputs[i] = float(inputs[i])\n",
        "            #print(inputs)\n",
        "        outputs=[x[2],x[3]]\n",
        "        for i in range(0, len(outputs)): \n",
        "            outputs[i] = float(outputs[i])\n",
        "        #print(outputs)\n",
        "        # FEED FORWARD PROCESS WITH EACH LINE\n",
        "        \n",
        "        #feedforward propagation from input layer to hidden layer\n",
        "        \n",
        "        feedforward_hidden_op = {}\n",
        "        #inpw- randomly generated weights\n",
        "        #%.10f - takes the first 10 decimal vals\n",
        "        for x in range(len(inpw)):\n",
        "            feedforward_hidden_op[\"h%s\"% str(x+1)] = float(\"%.10f\" % sigmoid(lm,dot(inputs,inpw[x])))\n",
        "#feedforward propagation from hidden layer to output layer\n",
        "        ff_op = {}\n",
        "        for x in range(len(opw)):\n",
        "            \n",
        "            ff_op[\"o%s\"% str(x+1)] = float(\"%.10f\" % sigmoid(lm,dot(list(feedforward_hidden_op.values()),opw[x])))\n",
        "            feedforward_output=list(ff_op.values())  #feedforward_output   is created as a list so that we can use it for error calculation     \n",
        "        error = {}\n",
        "        # change act to outputs\n",
        "        for x in range(len(outputs)):\n",
        "            error[\"error%s\"% str(x+1)] = float(\"%.10f\" % (outputs[x]-feedforward_output[x]))\n",
        "            error_list1=list(error.values()) \n",
        "#computing the local gradient from output layer to hidden layer\n",
        "    \n",
        "        grad_op = {}\n",
        "        for x in range(len(error)):\n",
        "            grad_op[\"Grad_op%s\"% str(x+1)] =float(\"%.10f\" % (lm*list(ff_op.values())[x]*(1-list(ff_op.values())[x])*float(list(error.values())[x])))\n",
        "\n",
        "#Backward weight updation from output layer to hidden layer\n",
        "        #grad_op is grad of x_vel and y_vel\n",
        "        #feedforward_hidden_op - h1,h1,h3\n",
        "        \n",
        "        wu1=[]\n",
        "        for e in range(n_outputs):\n",
        "            delta_output_weights=[]\n",
        "            for k in range(1):\n",
        "                for x in range(n_hidden):\n",
        "                    delta_output_weights1= float(\"%.10f\" % ((lr*float(list(grad_op.values())[e])*list(feedforward_hidden_op.values())[x])+(alpha*dw1[e][x])))\n",
        "                    delta_output_weights.append(delta_output_weights1)\n",
        "            wu1.append(delta_output_weights)\n",
        "\n",
        "#weights rearrangement for backwardpropagation\n",
        "        \n",
        "        rearrange_opw={}\n",
        "        #len(opw)-1 ---needs to iterate only once\n",
        "        for k in range(len(opw)-1):\n",
        "            for x in range(n_hidden):                           #n_hidden is the number of neurons in the hidden layer\n",
        "                rearrange_opw[\"trasnpose_hidden_weight%s\"% str(x+1)]=[(opw[k][x]),(opw[k+1][x])]\n",
        "\n",
        "        #hidden local gradient \n",
        "        hg = {}\n",
        "        for x in range(len(feedforward_hidden_op.keys())):\n",
        "            hg[\"Grad_h%s\"% str(x+1)] = float(\"%.10f\" % (lm*list(feedforward_hidden_op.values())[x]*(1-list(feedforward_hidden_op.values())[x])*dot((list(grad_op.values())),(list(rearrange_opw.values())[x]))))       \n",
        "            \n",
        "        #backward weight updation from hidden layer to input layer\n",
        "        h_updated_w=[]\n",
        "        for e in range(n_hidden):\n",
        "            d_hidden_w=[]\n",
        "            for k in range(1):\n",
        "                for x in range(len(inputs)):\n",
        "                    d_hidden_w1= float(\"%.10f\" % ((lr*float(list(hg.values())[e])*(inputs[x]))+(alpha*dw0[e][x])))\n",
        "                    d_hidden_w.append(d_hidden_w1)\n",
        "            h_updated_w.append(d_hidden_w)        \n",
        "        dw0=h_updated_w \n",
        "        wu_input_layer=wu(inpw,h_updated_w)\n",
        "        #wu_input_layer\n",
        "        inpw=wu_input_layer\n",
        "        dw1=wu1\n",
        "        wu_output_layer=wu(opw,wu1)\n",
        "        opw=wu_output_layer\n",
        "        error_list.append(error_list1)\n",
        "        \n",
        "        \n",
        "    tFile.close()\n",
        "    error_list2=[]\n",
        "    vFile = open(\"C:\\\\Users\\\\Siri\\\\Desktop\\\\ANN\\\\ce889assignment-master\\\\ValidationSet.csv\", \"r\")\n",
        "    for line in vFile.readlines():\n",
        "        \n",
        "        x= line.rstrip().split(\",\") # access values of line and divide them into a list \n",
        "        inputs=[x[0],x[1]]\n",
        "        for i in range(0, len(inputs)): \n",
        "            inputs[i] = float(inputs[i])\n",
        "            #print(inputs)\n",
        "        outputs=[x[2],x[3]]\n",
        "        for i in range(0, len(outputs)): \n",
        "            outputs[i] = float(outputs[i])\n",
        "        #print(outputs)\n",
        "        # FEED FORWARD PROCESS WITH EACH LINE\n",
        "        #feedforward propagation from input layer to hidden layer\n",
        "        feedforward_hidden_op = {}\n",
        "        for x in range(len(inpw)):\n",
        "            feedforward_hidden_op[\"h%s\"% str(x+1)] = float(\"%.10f\" % sigmoid(lm,dot(inputs,inpw[x])))\n",
        "        #feedforward propagation from hidden layer to output layer\n",
        "        ff_op = {}\n",
        "        for x in range(len(opw)):\n",
        "            ff_op[\"o%s\"% str(x+1)] = float(\"%.10f\" % sigmoid(lm,dot(list(feedforward_hidden_op.values()),opw[x])))\n",
        "            feedforward_output=list(ff_op.values())  #feedforward_output   is created as a list so that we can use it for error calculation     \n",
        "        error = {}\n",
        "        for x in range(len(outputs)):\n",
        "            error[\"error%s\"% str(x+1)] = float(\"%.10f\" % (outputs[x]-feedforward_output[x]))\n",
        "            error_list3=list(error.values())\n",
        "        error_list2.append(error_list3)\n",
        "        \n",
        "    vFile.close()\n",
        "    \n",
        "    rtrain=RMSE(error_list)\n",
        "    rval=RMSE(error_list2)\n",
        "    listt.append(rtrain)\n",
        "    listv.append(rval)\n",
        "    print(\"\\nEpoch=\",epoch_number,\"\\tRMSE:\",RMSE(error_list),\"\\tValidation Error:\",RMSE(error_list2))#\"\\tInput weights:\",inpw,\"\\tOutput weights:\",opw)\n",
        "    \n",
        "    \n",
        "   "
      ],
      "execution_count": null,
      "outputs": [
        {
          "output_type": "stream",
          "text": [
            "\n",
            "Epoch= 0 \tRMSE: 0.11145941954905215 \tValidation Error: 0.11103186346921876\n",
            "\n",
            "Epoch= 1 \tRMSE: 0.10924732836594402 \tValidation Error: 0.11017032586675699\n",
            "\n",
            "Epoch= 2 \tRMSE: 0.10889755971179806 \tValidation Error: 0.11001687896621333\n",
            "\n",
            "Epoch= 3 \tRMSE: 0.10870997241272339 \tValidation Error: 0.10989835289004521\n",
            "\n",
            "Epoch= 4 \tRMSE: 0.10851711129874016 \tValidation Error: 0.1097763266013689\n",
            "\n",
            "Epoch= 5 \tRMSE: 0.10830658197254503 \tValidation Error: 0.1096350502080923\n",
            "\n",
            "Epoch= 6 \tRMSE: 0.108079835601914 \tValidation Error: 0.1094760903435411\n",
            "\n",
            "Epoch= 7 \tRMSE: 0.10784919540398105 \tValidation Error: 0.10931218275674645\n",
            "\n",
            "Epoch= 8 \tRMSE: 0.10763041605012034 \tValidation Error: 0.10915737569614838\n",
            "\n",
            "Epoch= 9 \tRMSE: 0.10743500804796562 \tValidation Error: 0.109020333605171\n",
            "\n",
            "Epoch= 10 \tRMSE: 0.10726711515620978 \tValidation Error: 0.1089033073916384\n",
            "\n",
            "Epoch= 11 \tRMSE: 0.10712491236348014 \tValidation Error: 0.10880434130026403\n",
            "\n",
            "Epoch= 12 \tRMSE: 0.10700358129787406 \tValidation Error: 0.10871982385393647\n",
            "\n",
            "Epoch= 13 \tRMSE: 0.10689779775327053 \tValidation Error: 0.10864624648481913\n",
            "\n",
            "Epoch= 14 \tRMSE: 0.10680329922066335 \tValidation Error: 0.10858119694044843\n",
            "\n",
            "Epoch= 15 \tRMSE: 0.10671773147078477 \tValidation Error: 0.10852379448422363\n",
            "\n",
            "Epoch= 16 \tRMSE: 0.10664084412850158 \tValidation Error: 0.10847456285183074\n",
            "\n",
            "Epoch= 17 \tRMSE: 0.10657391602924401 \tValidation Error: 0.10843467025448228\n",
            "\n",
            "Epoch= 18 \tRMSE: 0.10651850347914171 \tValidation Error: 0.10840479671422604\n",
            "\n",
            "Epoch= 19 \tRMSE: 0.1064751384455133 \tValidation Error: 0.10838432200081924\n",
            "\n",
            "Epoch= 20 \tRMSE: 0.10644278725283267 \tValidation Error: 0.10837138149333553\n",
            "\n",
            "Epoch= 21 \tRMSE: 0.10641928014450991 \tValidation Error: 0.10836359521331713\n",
            "\n",
            "Epoch= 22 \tRMSE: 0.10640216264450518 \tValidation Error: 0.10835881657115186\n",
            "\n",
            "Epoch= 23 \tRMSE: 0.10638933047110495 \tValidation Error: 0.10835549265529505\n",
            "\n",
            "Epoch= 24 \tRMSE: 0.10637924788268605 \tValidation Error: 0.10835266600478276\n",
            "\n",
            "Epoch= 25 \tRMSE: 0.10637089120227565 \tValidation Error: 0.10834981878553333\n",
            "\n",
            "Epoch= 26 \tRMSE: 0.10636360466594016 \tValidation Error: 0.10834670656346977\n",
            "\n",
            "Epoch= 27 \tRMSE: 0.10635696895741882 \tValidation Error: 0.10834323568105683\n",
            "\n",
            "Epoch= 28 \tRMSE: 0.10635070874127789 \tValidation Error: 0.10833938665351324\n",
            "\n",
            "Epoch= 29 \tRMSE: 0.10634463416829508 \tValidation Error: 0.10833517040575585\n",
            "\n",
            "Epoch= 30 \tRMSE: 0.10633860509956673 \tValidation Error: 0.10833060436191014\n",
            "\n",
            "Epoch= 31 \tRMSE: 0.10633250901636601 \tValidation Error: 0.1083256995789495\n",
            "\n",
            "Epoch= 32 \tRMSE: 0.10632624681086617 \tValidation Error: 0.10832045361453771\n",
            "\n",
            "Epoch= 33 \tRMSE: 0.10631972301026142 \tValidation Error: 0.10831484607899525\n",
            "\n",
            "Epoch= 34 \tRMSE: 0.10631283842123615 \tValidation Error: 0.10830883519776856\n",
            "\n",
            "Epoch= 35 \tRMSE: 0.10630548399545003 \tValidation Error: 0.10830235450534169\n",
            "\n",
            "Epoch= 36 \tRMSE: 0.10629753521304337 \tValidation Error: 0.10829530922484437\n",
            "\n",
            "Epoch= 37 \tRMSE: 0.10628884654548859 \tValidation Error: 0.1082875720242041\n",
            "\n",
            "Epoch= 38 \tRMSE: 0.10627924583298397 \tValidation Error: 0.10827897817968767\n",
            "\n",
            "Epoch= 39 \tRMSE: 0.10626852858680755 \tValidation Error: 0.10826932042005838\n",
            "\n",
            "Epoch= 40 \tRMSE: 0.10625645253317301 \tValidation Error: 0.1082583439295163\n",
            "\n",
            "Epoch= 41 \tRMSE: 0.10624273304759833 \tValidation Error: 0.1082457424848033\n",
            "\n",
            "Epoch= 42 \tRMSE: 0.10622704068316279 \tValidation Error: 0.10823115721474637\n",
            "\n",
            "Epoch= 43 \tRMSE: 0.10620900255807778 \tValidation Error: 0.10821418029958961\n",
            "\n",
            "Epoch= 44 \tRMSE: 0.10618821024062264 \tValidation Error: 0.10819436655598821\n",
            "\n",
            "Epoch= 45 \tRMSE: 0.10616423740110537 \tValidation Error: 0.10817125644377534\n",
            "\n",
            "Epoch= 46 \tRMSE: 0.10613667088593019 \tValidation Error: 0.10814441409702324\n",
            "\n",
            "Epoch= 47 \tRMSE: 0.10610515827016255 \tValidation Error: 0.10811348264488256\n",
            "\n",
            "Epoch= 48 \tRMSE: 0.10606947258902664 \tValidation Error: 0.10807825581244528\n",
            "\n",
            "Epoch= 49 \tRMSE: 0.10602959016631565 \tValidation Error: 0.10803875911921744\n",
            "\n",
            "Epoch= 50 \tRMSE: 0.10598577023713035 \tValidation Error: 0.10799532616561565\n",
            "\n",
            "Epoch= 51 \tRMSE: 0.10593861692375965 \tValidation Error: 0.10794864809019288\n",
            "\n",
            "Epoch= 52 \tRMSE: 0.10588909901259752 \tValidation Error: 0.10789977178593756\n",
            "\n",
            "Epoch= 53 \tRMSE: 0.10583850577823985 \tValidation Error: 0.10785002967912066\n",
            "\n",
            "Epoch= 54 \tRMSE: 0.10578833131990355 \tValidation Error: 0.10780090222727658\n",
            "\n",
            "Epoch= 55 \tRMSE: 0.10574010283143968 \tValidation Error: 0.10775383839962692\n",
            "\n",
            "Epoch= 56 \tRMSE: 0.10569519062739076 \tValidation Error: 0.10771007725824185\n",
            "\n",
            "Epoch= 57 \tRMSE: 0.10565464741088344 \tValidation Error: 0.10767051545766682\n",
            "\n",
            "Epoch= 58 \tRMSE: 0.10561911498476108 \tValidation Error: 0.1076356486955371\n",
            "\n",
            "Epoch= 59 \tRMSE: 0.10558881254836251 \tValidation Error: 0.10760558913811084\n",
            "\n",
            "Epoch= 60 \tRMSE: 0.10556359460995882 \tValidation Error: 0.107580138721228\n",
            "\n",
            "Epoch= 61 \tRMSE: 0.1055430499859285 \tValidation Error: 0.10755888832953511\n",
            "\n",
            "Epoch= 62 \tRMSE: 0.10552661078076422 \tValidation Error: 0.10754131586309507\n",
            "\n",
            "Epoch= 63 \tRMSE: 0.10551364813015 \tValidation Error: 0.10752686603156991\n",
            "\n",
            "Epoch= 64 \tRMSE: 0.10550354306957099 \tValidation Error: 0.10751500553827156\n",
            "\n",
            "Epoch= 65 \tRMSE: 0.1054957308421206 \tValidation Error: 0.10750525496295639\n",
            "\n",
            "Epoch= 66 \tRMSE: 0.10548972282302493 \tValidation Error: 0.10749720263313538\n",
            "\n",
            "Epoch= 67 \tRMSE: 0.1054851124521359 \tValidation Error: 0.1074905063651738\n",
            "\n",
            "Epoch= 68 \tRMSE: 0.10548157127385514 \tValidation Error: 0.10748488826584453\n",
            "\n",
            "Epoch= 69 \tRMSE: 0.10547883988252488 \tValidation Error: 0.10748012629476845\n",
            "\n",
            "Epoch= 70 \tRMSE: 0.10547671699117062 \tValidation Error: 0.10747604499355425\n",
            "\n",
            "Epoch= 71 \tRMSE: 0.10547504856991295 \tValidation Error: 0.1074725066456459\n",
            "\n",
            "Epoch= 72 \tRMSE: 0.1054737180582857 \tValidation Error: 0.10746940356769565\n",
            "\n",
            "Epoch= 73 \tRMSE: 0.10547263805403054 \tValidation Error: 0.10746665158900669\n",
            "\n",
            "Epoch= 74 \tRMSE: 0.10547174349405225 \tValidation Error: 0.10746418488616696\n",
            "\n",
            "Epoch= 75 \tRMSE: 0.10547098626112239 \tValidation Error: 0.1074619518006\n",
            "\n",
            "Epoch= 76 \tRMSE: 0.1054703309546856 \tValidation Error: 0.10745991162967816\n"
          ],
          "name": "stdout"
        }
      ]
    },
    {
      "cell_type": "code",
      "metadata": {
        "scrolled": true,
        "id": "Ela1vNcWXnXb",
        "outputId": "c8b3a47f-87e6-4347-8496-61719e245b35"
      },
      "source": [
        "import matplotlib.pyplot as plt\n",
        "plt.plot(listt)\n",
        "plt.ylabel('Training RMSE')\n",
        "plt.show()\n",
        "#no significant improvement in RMSE after epoch 75"
      ],
      "execution_count": null,
      "outputs": [
        {
          "output_type": "display_data",
          "data": {
            "image/png": "[encoded data removed]",
            "text/plain": [
              "<Figure size 432x288 with 1 Axes>"
            ]
          },
          "metadata": {
            "tags": [],
            "needs_background": "light"
          }
        }
      ]
    },
    {
      "cell_type": "code",
      "metadata": {
        "id": "vfs7FkXfXnXc",
        "outputId": "c027bae9-f6a6-472a-c8ed-ecf37001e61a"
      },
      "source": [
        "plt.plot(listv)\n",
        "plt.ylabel('Validation RMSE')\n",
        "plt.show()"
      ],
      "execution_count": null,
      "outputs": [
        {
          "output_type": "display_data",
          "data": {
            "image/png": "[encoded data removed]",
            "text/plain": [
              "<Figure size 432x288 with 1 Axes>"
            ]
          },
          "metadata": {
            "tags": [],
            "needs_background": "light"
          }
        }
      ]
    },
    {
      "cell_type": "code",
      "metadata": {
        "id": "1STUxGx0XnXc"
      },
      "source": [
        "#Epoch= 76\n",
        "#Input weights: [[-5.27077343044729, -0.701618618343109], [-0.303053296403156, -3.3862605578928067], [-10.079618862252442, 0.49599262754927115], [-2.663844415638876, -4.912691659531325]] \t\n",
        "#Output weights: [[-2.8915910743825552, -1.149065558158696, 0.9779885147119902, 4.742918557199674], [-4.6371634408322535, 4.970945772312703, 4.353267584573851, -7.250034917901074]]"
      ],
      "execution_count": null,
      "outputs": []
    }
  ]
}