{
  "nbformat": 4,
  "nbformat_minor": 0,
  "metadata": {
    "kernelspec": {
      "display_name": "Python 3",
      "language": "python",
      "name": "python3"
    },
    "language_info": {
      "codemirror_mode": {
        "name": "ipython",
        "version": 3
      },
      "file_extension": ".py",
      "mimetype": "text/x-python",
      "name": "python",
      "nbconvert_exporter": "python",
      "pygments_lexer": "ipython3",
      "version": "3.7.7"
    },
    "colab": {
      "name": "Travel_Insurance_Regression.ipynb",
      "provenance": [],
      "include_colab_link": true
    }
  },
  "cells": [
    {
      "cell_type": "markdown",
      "metadata": {
        "id": "view-in-github",
        "colab_type": "text"
      },
      "source": [
        "<a href=\"https://colab.research.google.com/github/Sreelakshmim6/Personal-Projects/blob/main/Travel_Insurance_Regression.ipynb\" target=\"_parent\"><img src=\"https://colab.research.google.com/assets/colab-badge.svg\" alt=\"Open In Colab\"/></a>"
      ]
    },
    {
      "cell_type": "code",
      "metadata": {
        "id": "FIECH7_EaKfG"
      },
      "source": [
        "import pandas as pd\n",
        "import seaborn as sns\n",
        "\n",
        "#read data\n",
        "df=pd.read_csv(\"C:\\\\Users\\\\Siri\\\\Desktop\\\\CE802\\\\Assignment\\\\CE802_P3_Data\\\\CE802_P3_Data.csv\")\n",
        "\n"
      ],
      "execution_count": null,
      "outputs": []
    },
    {
      "cell_type": "code",
      "metadata": {
        "id": "-1I80JFgaKfU"
      },
      "source": [
        "#to check the model accuracy -  484.7396481016478\n",
        "import sklearn.metrics as metrics\n",
        "from sklearn.metrics import mean_squared_error\n",
        "import numpy as np\n",
        "def rmse(predictions, targets):\n",
        "    return np.sqrt(((predictions - targets) ** 2).mean())\n",
        "\n",
        "from sklearn.model_selection import train_test_split\n",
        "from sklearn.model_selection import cross_val_score, cross_val_predict\n",
        "from sklearn import metrics\n",
        "from sklearn.model_selection import GridSearchCV\n"
      ],
      "execution_count": null,
      "outputs": []
    },
    {
      "cell_type": "code",
      "metadata": {
        "id": "SLZTj93TaKfW"
      },
      "source": [
        "def cv(m,model):\n",
        "    # Perform 10-fold cross validation\n",
        "    scores = cross_val_score(m, x , y, cv=10)\n",
        "    print ('Cross-validated scores:', scores)\n",
        "    print(\"\\n Average Cross-validated score:\",np.average(scores),\"\\n\")\n",
        "    # Make cross validated predictions\n",
        "    predictions = cross_val_predict(model, x, y, cv=10)\n",
        "    #plt.scatter(y, predictions)\n",
        "\n",
        "    accuracy = metrics.r2_score(y, predictions)\n",
        "    print('CrossVal-Predicted Accuracy:', accuracy)"
      ],
      "execution_count": null,
      "outputs": []
    },
    {
      "cell_type": "code",
      "metadata": {
        "id": "oGoAjraCaKfX",
        "outputId": "6e9dc6f7-1b60-4002-d738-d375c5073c71"
      },
      "source": [
        "df.head()"
      ],
      "execution_count": null,
      "outputs": [
        {
          "output_type": "execute_result",
          "data": {
            "text/html": [
              "<div>\n",
              "<style scoped>\n",
              "    .dataframe tbody tr th:only-of-type {\n",
              "        vertical-align: middle;\n",
              "    }\n",
              "\n",
              "    .dataframe tbody tr th {\n",
              "        vertical-align: top;\n",
              "    }\n",
              "\n",
              "    .dataframe thead th {\n",
              "        text-align: right;\n",
              "    }\n",
              "</style>\n",
              "<table border=\"1\" class=\"dataframe\">\n",
              "  <thead>\n",
              "    <tr style=\"text-align: right;\">\n",
              "      <th></th>\n",
              "      <th>F1</th>\n",
              "      <th>F2</th>\n",
              "      <th>F3</th>\n",
              "      <th>F4</th>\n",
              "      <th>F5</th>\n",
              "      <th>F6</th>\n",
              "      <th>F7</th>\n",
              "      <th>F8</th>\n",
              "      <th>F9</th>\n",
              "      <th>F10</th>\n",
              "      <th>F11</th>\n",
              "      <th>F12</th>\n",
              "      <th>F13</th>\n",
              "      <th>F14</th>\n",
              "      <th>F15</th>\n",
              "      <th>F16</th>\n",
              "      <th>Target</th>\n",
              "    </tr>\n",
              "  </thead>\n",
              "  <tbody>\n",
              "    <tr>\n",
              "      <th>0</th>\n",
              "      <td>193.83</td>\n",
              "      <td>UK</td>\n",
              "      <td>49.74</td>\n",
              "      <td>14.16</td>\n",
              "      <td>213.02</td>\n",
              "      <td>343.06</td>\n",
              "      <td>1753.44</td>\n",
              "      <td>-6.03</td>\n",
              "      <td>6.28</td>\n",
              "      <td>8</td>\n",
              "      <td>-5145.92</td>\n",
              "      <td>Low</td>\n",
              "      <td>11.35</td>\n",
              "      <td>1.01</td>\n",
              "      <td>1</td>\n",
              "      <td>68.92</td>\n",
              "      <td>51.16</td>\n",
              "    </tr>\n",
              "    <tr>\n",
              "      <th>1</th>\n",
              "      <td>1495.47</td>\n",
              "      <td>Europe</td>\n",
              "      <td>58.02</td>\n",
              "      <td>5.88</td>\n",
              "      <td>137.80</td>\n",
              "      <td>270.48</td>\n",
              "      <td>1665.33</td>\n",
              "      <td>-0.52</td>\n",
              "      <td>9.72</td>\n",
              "      <td>14</td>\n",
              "      <td>11145.82</td>\n",
              "      <td>High</td>\n",
              "      <td>10.30</td>\n",
              "      <td>0.30</td>\n",
              "      <td>5</td>\n",
              "      <td>89.30</td>\n",
              "      <td>0.00</td>\n",
              "    </tr>\n",
              "    <tr>\n",
              "      <th>2</th>\n",
              "      <td>1121.31</td>\n",
              "      <td>USA</td>\n",
              "      <td>68.85</td>\n",
              "      <td>9.18</td>\n",
              "      <td>209.54</td>\n",
              "      <td>295.26</td>\n",
              "      <td>3208.65</td>\n",
              "      <td>-4.00</td>\n",
              "      <td>3.86</td>\n",
              "      <td>6</td>\n",
              "      <td>31859.00</td>\n",
              "      <td>Medium</td>\n",
              "      <td>7.98</td>\n",
              "      <td>13.05</td>\n",
              "      <td>4</td>\n",
              "      <td>-11.80</td>\n",
              "      <td>2808.51</td>\n",
              "    </tr>\n",
              "    <tr>\n",
              "      <th>3</th>\n",
              "      <td>-305.49</td>\n",
              "      <td>USA</td>\n",
              "      <td>49.29</td>\n",
              "      <td>8.73</td>\n",
              "      <td>171.83</td>\n",
              "      <td>266.06</td>\n",
              "      <td>1704.18</td>\n",
              "      <td>-2.41</td>\n",
              "      <td>4.16</td>\n",
              "      <td>6</td>\n",
              "      <td>8075.76</td>\n",
              "      <td>Low</td>\n",
              "      <td>16.52</td>\n",
              "      <td>2.01</td>\n",
              "      <td>5</td>\n",
              "      <td>41.40</td>\n",
              "      <td>1092.21</td>\n",
              "    </tr>\n",
              "    <tr>\n",
              "      <th>4</th>\n",
              "      <td>1457.07</td>\n",
              "      <td>UK</td>\n",
              "      <td>64.98</td>\n",
              "      <td>7.92</td>\n",
              "      <td>74.10</td>\n",
              "      <td>260.22</td>\n",
              "      <td>1922.34</td>\n",
              "      <td>-11.97</td>\n",
              "      <td>5.00</td>\n",
              "      <td>18</td>\n",
              "      <td>9886.72</td>\n",
              "      <td>High</td>\n",
              "      <td>5.37</td>\n",
              "      <td>0.01</td>\n",
              "      <td>1</td>\n",
              "      <td>62.74</td>\n",
              "      <td>0.00</td>\n",
              "    </tr>\n",
              "  </tbody>\n",
              "</table>\n",
              "</div>"
            ],
            "text/plain": [
              "        F1      F2     F3     F4      F5      F6       F7     F8    F9  F10  \\\n",
              "0   193.83      UK  49.74  14.16  213.02  343.06  1753.44  -6.03  6.28    8   \n",
              "1  1495.47  Europe  58.02   5.88  137.80  270.48  1665.33  -0.52  9.72   14   \n",
              "2  1121.31     USA  68.85   9.18  209.54  295.26  3208.65  -4.00  3.86    6   \n",
              "3  -305.49     USA  49.29   8.73  171.83  266.06  1704.18  -2.41  4.16    6   \n",
              "4  1457.07      UK  64.98   7.92   74.10  260.22  1922.34 -11.97  5.00   18   \n",
              "\n",
              "        F11     F12    F13    F14  F15    F16   Target  \n",
              "0  -5145.92     Low  11.35   1.01    1  68.92    51.16  \n",
              "1  11145.82    High  10.30   0.30    5  89.30     0.00  \n",
              "2  31859.00  Medium   7.98  13.05    4 -11.80  2808.51  \n",
              "3   8075.76     Low  16.52   2.01    5  41.40  1092.21  \n",
              "4   9886.72    High   5.37   0.01    1  62.74     0.00  "
            ]
          },
          "metadata": {
            "tags": []
          },
          "execution_count": 99
        }
      ]
    },
    {
      "cell_type": "code",
      "metadata": {
        "id": "WgfsSrFIaKfZ",
        "outputId": "b8e930cd-8d09-43c3-ff4d-39b3cd6de759"
      },
      "source": [
        "df.shape"
      ],
      "execution_count": null,
      "outputs": [
        {
          "output_type": "execute_result",
          "data": {
            "text/plain": [
              "(1500, 17)"
            ]
          },
          "metadata": {
            "tags": []
          },
          "execution_count": 7
        }
      ]
    },
    {
      "cell_type": "code",
      "metadata": {
        "id": "dnXYYI3RaKfa",
        "outputId": "a3fea253-4c1c-4fa9-990e-f329efd3db85"
      },
      "source": [
        "print(df)"
      ],
      "execution_count": null,
      "outputs": [
        {
          "output_type": "stream",
          "text": [
            "           F1      F2     F3     F4      F5      F6       F7     F8     F9  \\\n",
            "0      193.83      UK  49.74  14.16  213.02  343.06  1753.44  -6.03   6.28   \n",
            "1     1495.47  Europe  58.02   5.88  137.80  270.48  1665.33  -0.52   9.72   \n",
            "2     1121.31     USA  68.85   9.18  209.54  295.26  3208.65  -4.00   3.86   \n",
            "3     -305.49     USA  49.29   8.73  171.83  266.06  1704.18  -2.41   4.16   \n",
            "4     1457.07      UK  64.98   7.92   74.10  260.22  1922.34 -11.97   5.00   \n",
            "...       ...     ...    ...    ...     ...     ...      ...    ...    ...   \n",
            "1495   633.87  Europe  54.51   6.51  179.23  219.02  1064.04  -3.60   2.74   \n",
            "1496   390.45    Rest  65.97   6.81  154.23  261.36   527.31  -6.83  23.50   \n",
            "1497    78.72      UK  78.06   3.72  144.12  313.50   851.85  -3.59   2.26   \n",
            "1498  2366.88    Rest  92.49  26.64  255.96  326.36  2191.02  -1.21   6.64   \n",
            "1499   407.79    Rest  74.07  16.71  141.70  198.18  1400.88  -1.41  21.60   \n",
            "\n",
            "      F10       F11     F12    F13    F14  F15     F16   Target  \n",
            "0       8  -5145.92     Low  11.35   1.01    1   68.92    51.16  \n",
            "1      14  11145.82    High  10.30   0.30    5   89.30     0.00  \n",
            "2       6  31859.00  Medium   7.98  13.05    4  -11.80  2808.51  \n",
            "3       6   8075.76     Low  16.52   2.01    5   41.40  1092.21  \n",
            "4      18   9886.72    High   5.37   0.01    1   62.74     0.00  \n",
            "...   ...       ...     ...    ...    ...  ...     ...      ...  \n",
            "1495    8  19120.54     Low  10.29   1.22    4   29.66     0.00  \n",
            "1496    8   1359.86     Low  11.58   1.01    6  -40.00  1241.64  \n",
            "1497   10   7519.18     Low  15.07   0.03    4   44.80     0.00  \n",
            "1498    6   9741.86     Low  11.40  42.04    3   29.96   396.84  \n",
            "1499    2   2753.94  Medium  13.10   0.16    6  122.02  1186.26  \n",
            "\n",
            "[1500 rows x 17 columns]\n"
          ],
          "name": "stdout"
        }
      ]
    },
    {
      "cell_type": "code",
      "metadata": {
        "id": "X-BP8MwNaKfa",
        "outputId": "ffa35f9a-b5ac-4bf6-f104-59d1792cad65"
      },
      "source": [
        "df.isnull().sum()"
      ],
      "execution_count": null,
      "outputs": [
        {
          "output_type": "execute_result",
          "data": {
            "text/plain": [
              "F1        0\n",
              "F2        0\n",
              "F3        0\n",
              "F4        0\n",
              "F5        0\n",
              "F6        0\n",
              "F7        0\n",
              "F8        0\n",
              "F9        0\n",
              "F10       0\n",
              "F11       0\n",
              "F12       0\n",
              "F13       0\n",
              "F14       0\n",
              "F15       0\n",
              "F16       0\n",
              "Target    0\n",
              "dtype: int64"
            ]
          },
          "metadata": {
            "tags": []
          },
          "execution_count": 100
        }
      ]
    },
    {
      "cell_type": "code",
      "metadata": {
        "id": "pRwML7gkaKfb",
        "outputId": "ae47945c-4b16-4e82-beaf-6efcc47a16b1"
      },
      "source": [
        "import matplotlib.pyplot as plt\n",
        "plt.figure(figsize=(20,10))\n",
        "sns.heatmap(df.corr(),cmap=\"twilight_r\",center=1,annot = True,linewidths=1)\n",
        "# Correlation : F12<F11<F3<F6<F14<F7<F13<F4<F8<F9<F1<F2<F10<F5<F15\n"
      ],
      "execution_count": null,
      "outputs": [
        {
          "output_type": "execute_result",
          "data": {
            "text/plain": [
              "<matplotlib.axes._subplots.AxesSubplot at 0x1c3a83309c8>"
            ]
          },
          "metadata": {
            "tags": []
          },
          "execution_count": 101
        },
        {
          "output_type": "display_data",
          "data": {
            "image/png": "[encoded data removed]",
            "text/plain": [
              "<Figure size 1440x720 with 2 Axes>"
            ]
          },
          "metadata": {
            "tags": [],
            "needs_background": "light"
          }
        }
      ]
    },
    {
      "cell_type": "markdown",
      "metadata": {
        "id": "t1pPGDlPaKfc"
      },
      "source": [
        "Categorical Variables to Numerical Variables - One hot encoding"
      ]
    },
    {
      "cell_type": "code",
      "metadata": {
        "id": "86kfpDcgaKfd"
      },
      "source": [
        "dummy1=pd.get_dummies(df['F2'])\n",
        "dummy2=pd.get_dummies(df['F12'])\n"
      ],
      "execution_count": null,
      "outputs": []
    },
    {
      "cell_type": "code",
      "metadata": {
        "scrolled": true,
        "id": "Q7w0AyvGaKfd"
      },
      "source": [
        "master=pd.concat([df,dummy1,dummy2],axis=1)\n"
      ],
      "execution_count": null,
      "outputs": []
    },
    {
      "cell_type": "markdown",
      "metadata": {
        "id": "wQEMmoGBaKfe"
      },
      "source": [
        "Dropping Object cols-F2, F12 and cols with low correlation with Target variable-'Europe','Medium' and 'F8'"
      ]
    },
    {
      "cell_type": "code",
      "metadata": {
        "scrolled": true,
        "id": "qekMvFtPaKfe",
        "outputId": "9aaa8cb2-7b31-48df-b7cb-9c552aa25d73"
      },
      "source": [
        "#F1-0 (obj)F2-1 F3-2 F4-3 F5-4 F6-5 F7-6 F8-7 F9-8 F10-9 F11-10 (obj)F12-11 F13-12 F14-13 F15-14 F16-15\n",
        "# Target- 16 Europe- 17 Rest-18 UK- 19\n",
        "#'USA'- 20, 'High'- 21, 'Low'- 22, 'Medium'- 23, 'Very high'- 24, 'Very low'- 25\n",
        "\n",
        "master=master.drop(['F2','F12','Europe','F8','Medium'],axis=1)\n",
        "master"
      ],
      "execution_count": null,
      "outputs": [
        {
          "output_type": "execute_result",
          "data": {
            "text/html": [
              "<div>\n",
              "<style scoped>\n",
              "    .dataframe tbody tr th:only-of-type {\n",
              "        vertical-align: middle;\n",
              "    }\n",
              "\n",
              "    .dataframe tbody tr th {\n",
              "        vertical-align: top;\n",
              "    }\n",
              "\n",
              "    .dataframe thead th {\n",
              "        text-align: right;\n",
              "    }\n",
              "</style>\n",
              "<table border=\"1\" class=\"dataframe\">\n",
              "  <thead>\n",
              "    <tr style=\"text-align: right;\">\n",
              "      <th></th>\n",
              "      <th>F1</th>\n",
              "      <th>F3</th>\n",
              "      <th>F4</th>\n",
              "      <th>F5</th>\n",
              "      <th>F6</th>\n",
              "      <th>F7</th>\n",
              "      <th>F9</th>\n",
              "      <th>F10</th>\n",
              "      <th>F11</th>\n",
              "      <th>F13</th>\n",
              "      <th>...</th>\n",
              "      <th>F15</th>\n",
              "      <th>F16</th>\n",
              "      <th>Target</th>\n",
              "      <th>Rest</th>\n",
              "      <th>UK</th>\n",
              "      <th>USA</th>\n",
              "      <th>High</th>\n",
              "      <th>Low</th>\n",
              "      <th>Very high</th>\n",
              "      <th>Very low</th>\n",
              "    </tr>\n",
              "  </thead>\n",
              "  <tbody>\n",
              "    <tr>\n",
              "      <th>0</th>\n",
              "      <td>193.83</td>\n",
              "      <td>49.74</td>\n",
              "      <td>14.16</td>\n",
              "      <td>213.02</td>\n",
              "      <td>343.06</td>\n",
              "      <td>1753.44</td>\n",
              "      <td>6.28</td>\n",
              "      <td>8</td>\n",
              "      <td>-5145.92</td>\n",
              "      <td>11.35</td>\n",
              "      <td>...</td>\n",
              "      <td>1</td>\n",
              "      <td>68.92</td>\n",
              "      <td>51.16</td>\n",
              "      <td>0</td>\n",
              "      <td>1</td>\n",
              "      <td>0</td>\n",
              "      <td>0</td>\n",
              "      <td>1</td>\n",
              "      <td>0</td>\n",
              "      <td>0</td>\n",
              "    </tr>\n",
              "    <tr>\n",
              "      <th>1</th>\n",
              "      <td>1495.47</td>\n",
              "      <td>58.02</td>\n",
              "      <td>5.88</td>\n",
              "      <td>137.80</td>\n",
              "      <td>270.48</td>\n",
              "      <td>1665.33</td>\n",
              "      <td>9.72</td>\n",
              "      <td>14</td>\n",
              "      <td>11145.82</td>\n",
              "      <td>10.30</td>\n",
              "      <td>...</td>\n",
              "      <td>5</td>\n",
              "      <td>89.30</td>\n",
              "      <td>0.00</td>\n",
              "      <td>0</td>\n",
              "      <td>0</td>\n",
              "      <td>0</td>\n",
              "      <td>1</td>\n",
              "      <td>0</td>\n",
              "      <td>0</td>\n",
              "      <td>0</td>\n",
              "    </tr>\n",
              "    <tr>\n",
              "      <th>2</th>\n",
              "      <td>1121.31</td>\n",
              "      <td>68.85</td>\n",
              "      <td>9.18</td>\n",
              "      <td>209.54</td>\n",
              "      <td>295.26</td>\n",
              "      <td>3208.65</td>\n",
              "      <td>3.86</td>\n",
              "      <td>6</td>\n",
              "      <td>31859.00</td>\n",
              "      <td>7.98</td>\n",
              "      <td>...</td>\n",
              "      <td>4</td>\n",
              "      <td>-11.80</td>\n",
              "      <td>2808.51</td>\n",
              "      <td>0</td>\n",
              "      <td>0</td>\n",
              "      <td>1</td>\n",
              "      <td>0</td>\n",
              "      <td>0</td>\n",
              "      <td>0</td>\n",
              "      <td>0</td>\n",
              "    </tr>\n",
              "    <tr>\n",
              "      <th>3</th>\n",
              "      <td>-305.49</td>\n",
              "      <td>49.29</td>\n",
              "      <td>8.73</td>\n",
              "      <td>171.83</td>\n",
              "      <td>266.06</td>\n",
              "      <td>1704.18</td>\n",
              "      <td>4.16</td>\n",
              "      <td>6</td>\n",
              "      <td>8075.76</td>\n",
              "      <td>16.52</td>\n",
              "      <td>...</td>\n",
              "      <td>5</td>\n",
              "      <td>41.40</td>\n",
              "      <td>1092.21</td>\n",
              "      <td>0</td>\n",
              "      <td>0</td>\n",
              "      <td>1</td>\n",
              "      <td>0</td>\n",
              "      <td>1</td>\n",
              "      <td>0</td>\n",
              "      <td>0</td>\n",
              "    </tr>\n",
              "    <tr>\n",
              "      <th>4</th>\n",
              "      <td>1457.07</td>\n",
              "      <td>64.98</td>\n",
              "      <td>7.92</td>\n",
              "      <td>74.10</td>\n",
              "      <td>260.22</td>\n",
              "      <td>1922.34</td>\n",
              "      <td>5.00</td>\n",
              "      <td>18</td>\n",
              "      <td>9886.72</td>\n",
              "      <td>5.37</td>\n",
              "      <td>...</td>\n",
              "      <td>1</td>\n",
              "      <td>62.74</td>\n",
              "      <td>0.00</td>\n",
              "      <td>0</td>\n",
              "      <td>1</td>\n",
              "      <td>0</td>\n",
              "      <td>1</td>\n",
              "      <td>0</td>\n",
              "      <td>0</td>\n",
              "      <td>0</td>\n",
              "    </tr>\n",
              "    <tr>\n",
              "      <th>...</th>\n",
              "      <td>...</td>\n",
              "      <td>...</td>\n",
              "      <td>...</td>\n",
              "      <td>...</td>\n",
              "      <td>...</td>\n",
              "      <td>...</td>\n",
              "      <td>...</td>\n",
              "      <td>...</td>\n",
              "      <td>...</td>\n",
              "      <td>...</td>\n",
              "      <td>...</td>\n",
              "      <td>...</td>\n",
              "      <td>...</td>\n",
              "      <td>...</td>\n",
              "      <td>...</td>\n",
              "      <td>...</td>\n",
              "      <td>...</td>\n",
              "      <td>...</td>\n",
              "      <td>...</td>\n",
              "      <td>...</td>\n",
              "      <td>...</td>\n",
              "    </tr>\n",
              "    <tr>\n",
              "      <th>1495</th>\n",
              "      <td>633.87</td>\n",
              "      <td>54.51</td>\n",
              "      <td>6.51</td>\n",
              "      <td>179.23</td>\n",
              "      <td>219.02</td>\n",
              "      <td>1064.04</td>\n",
              "      <td>2.74</td>\n",
              "      <td>8</td>\n",
              "      <td>19120.54</td>\n",
              "      <td>10.29</td>\n",
              "      <td>...</td>\n",
              "      <td>4</td>\n",
              "      <td>29.66</td>\n",
              "      <td>0.00</td>\n",
              "      <td>0</td>\n",
              "      <td>0</td>\n",
              "      <td>0</td>\n",
              "      <td>0</td>\n",
              "      <td>1</td>\n",
              "      <td>0</td>\n",
              "      <td>0</td>\n",
              "    </tr>\n",
              "    <tr>\n",
              "      <th>1496</th>\n",
              "      <td>390.45</td>\n",
              "      <td>65.97</td>\n",
              "      <td>6.81</td>\n",
              "      <td>154.23</td>\n",
              "      <td>261.36</td>\n",
              "      <td>527.31</td>\n",
              "      <td>23.50</td>\n",
              "      <td>8</td>\n",
              "      <td>1359.86</td>\n",
              "      <td>11.58</td>\n",
              "      <td>...</td>\n",
              "      <td>6</td>\n",
              "      <td>-40.00</td>\n",
              "      <td>1241.64</td>\n",
              "      <td>1</td>\n",
              "      <td>0</td>\n",
              "      <td>0</td>\n",
              "      <td>0</td>\n",
              "      <td>1</td>\n",
              "      <td>0</td>\n",
              "      <td>0</td>\n",
              "    </tr>\n",
              "    <tr>\n",
              "      <th>1497</th>\n",
              "      <td>78.72</td>\n",
              "      <td>78.06</td>\n",
              "      <td>3.72</td>\n",
              "      <td>144.12</td>\n",
              "      <td>313.50</td>\n",
              "      <td>851.85</td>\n",
              "      <td>2.26</td>\n",
              "      <td>10</td>\n",
              "      <td>7519.18</td>\n",
              "      <td>15.07</td>\n",
              "      <td>...</td>\n",
              "      <td>4</td>\n",
              "      <td>44.80</td>\n",
              "      <td>0.00</td>\n",
              "      <td>0</td>\n",
              "      <td>1</td>\n",
              "      <td>0</td>\n",
              "      <td>0</td>\n",
              "      <td>1</td>\n",
              "      <td>0</td>\n",
              "      <td>0</td>\n",
              "    </tr>\n",
              "    <tr>\n",
              "      <th>1498</th>\n",
              "      <td>2366.88</td>\n",
              "      <td>92.49</td>\n",
              "      <td>26.64</td>\n",
              "      <td>255.96</td>\n",
              "      <td>326.36</td>\n",
              "      <td>2191.02</td>\n",
              "      <td>6.64</td>\n",
              "      <td>6</td>\n",
              "      <td>9741.86</td>\n",
              "      <td>11.40</td>\n",
              "      <td>...</td>\n",
              "      <td>3</td>\n",
              "      <td>29.96</td>\n",
              "      <td>396.84</td>\n",
              "      <td>1</td>\n",
              "      <td>0</td>\n",
              "      <td>0</td>\n",
              "      <td>0</td>\n",
              "      <td>1</td>\n",
              "      <td>0</td>\n",
              "      <td>0</td>\n",
              "    </tr>\n",
              "    <tr>\n",
              "      <th>1499</th>\n",
              "      <td>407.79</td>\n",
              "      <td>74.07</td>\n",
              "      <td>16.71</td>\n",
              "      <td>141.70</td>\n",
              "      <td>198.18</td>\n",
              "      <td>1400.88</td>\n",
              "      <td>21.60</td>\n",
              "      <td>2</td>\n",
              "      <td>2753.94</td>\n",
              "      <td>13.10</td>\n",
              "      <td>...</td>\n",
              "      <td>6</td>\n",
              "      <td>122.02</td>\n",
              "      <td>1186.26</td>\n",
              "      <td>1</td>\n",
              "      <td>0</td>\n",
              "      <td>0</td>\n",
              "      <td>0</td>\n",
              "      <td>0</td>\n",
              "      <td>0</td>\n",
              "      <td>0</td>\n",
              "    </tr>\n",
              "  </tbody>\n",
              "</table>\n",
              "<p>1500 rows × 21 columns</p>\n",
              "</div>"
            ],
            "text/plain": [
              "           F1     F3     F4      F5      F6       F7     F9  F10       F11  \\\n",
              "0      193.83  49.74  14.16  213.02  343.06  1753.44   6.28    8  -5145.92   \n",
              "1     1495.47  58.02   5.88  137.80  270.48  1665.33   9.72   14  11145.82   \n",
              "2     1121.31  68.85   9.18  209.54  295.26  3208.65   3.86    6  31859.00   \n",
              "3     -305.49  49.29   8.73  171.83  266.06  1704.18   4.16    6   8075.76   \n",
              "4     1457.07  64.98   7.92   74.10  260.22  1922.34   5.00   18   9886.72   \n",
              "...       ...    ...    ...     ...     ...      ...    ...  ...       ...   \n",
              "1495   633.87  54.51   6.51  179.23  219.02  1064.04   2.74    8  19120.54   \n",
              "1496   390.45  65.97   6.81  154.23  261.36   527.31  23.50    8   1359.86   \n",
              "1497    78.72  78.06   3.72  144.12  313.50   851.85   2.26   10   7519.18   \n",
              "1498  2366.88  92.49  26.64  255.96  326.36  2191.02   6.64    6   9741.86   \n",
              "1499   407.79  74.07  16.71  141.70  198.18  1400.88  21.60    2   2753.94   \n",
              "\n",
              "        F13  ...  F15     F16   Target  Rest  UK  USA  High  Low  Very high  \\\n",
              "0     11.35  ...    1   68.92    51.16     0   1    0     0    1          0   \n",
              "1     10.30  ...    5   89.30     0.00     0   0    0     1    0          0   \n",
              "2      7.98  ...    4  -11.80  2808.51     0   0    1     0    0          0   \n",
              "3     16.52  ...    5   41.40  1092.21     0   0    1     0    1          0   \n",
              "4      5.37  ...    1   62.74     0.00     0   1    0     1    0          0   \n",
              "...     ...  ...  ...     ...      ...   ...  ..  ...   ...  ...        ...   \n",
              "1495  10.29  ...    4   29.66     0.00     0   0    0     0    1          0   \n",
              "1496  11.58  ...    6  -40.00  1241.64     1   0    0     0    1          0   \n",
              "1497  15.07  ...    4   44.80     0.00     0   1    0     0    1          0   \n",
              "1498  11.40  ...    3   29.96   396.84     1   0    0     0    1          0   \n",
              "1499  13.10  ...    6  122.02  1186.26     1   0    0     0    0          0   \n",
              "\n",
              "      Very low  \n",
              "0            0  \n",
              "1            0  \n",
              "2            0  \n",
              "3            0  \n",
              "4            0  \n",
              "...        ...  \n",
              "1495         0  \n",
              "1496         0  \n",
              "1497         0  \n",
              "1498         0  \n",
              "1499         0  \n",
              "\n",
              "[1500 rows x 21 columns]"
            ]
          },
          "metadata": {
            "tags": []
          },
          "execution_count": 104
        }
      ]
    },
    {
      "cell_type": "code",
      "metadata": {
        "id": "5n6qxNasaKff",
        "outputId": "cd6c17ab-07b3-41c6-cab5-47e3a2bf5877"
      },
      "source": [
        "c=master.corr()\n",
        "print(c['Target'])"
      ],
      "execution_count": null,
      "outputs": [
        {
          "output_type": "stream",
          "text": [
            "F1          -0.263022\n",
            "F3           0.018677\n",
            "F4           0.346373\n",
            "F5           0.031407\n",
            "F6          -0.015412\n",
            "F7           0.300890\n",
            "F9           0.357137\n",
            "F10         -0.236200\n",
            "F11         -0.029194\n",
            "F13          0.020443\n",
            "F14          0.027713\n",
            "F15          0.193704\n",
            "F16         -0.430990\n",
            "Target       1.000000\n",
            "Rest        -0.238036\n",
            "UK          -0.037504\n",
            "USA          0.271030\n",
            "High         0.115405\n",
            "Low         -0.084860\n",
            "Very high    0.154642\n",
            "Very low    -0.165111\n",
            "Name: Target, dtype: float64\n"
          ],
          "name": "stdout"
        }
      ]
    },
    {
      "cell_type": "code",
      "metadata": {
        "scrolled": false,
        "id": "h2VEfASnaKfg",
        "outputId": "2c55c36b-b76e-4050-c666-1dccb5382b51"
      },
      "source": [
        "x=master.drop(['Target'],axis=1)\n",
        "x"
      ],
      "execution_count": null,
      "outputs": [
        {
          "output_type": "execute_result",
          "data": {
            "text/html": [
              "<div>\n",
              "<style scoped>\n",
              "    .dataframe tbody tr th:only-of-type {\n",
              "        vertical-align: middle;\n",
              "    }\n",
              "\n",
              "    .dataframe tbody tr th {\n",
              "        vertical-align: top;\n",
              "    }\n",
              "\n",
              "    .dataframe thead th {\n",
              "        text-align: right;\n",
              "    }\n",
              "</style>\n",
              "<table border=\"1\" class=\"dataframe\">\n",
              "  <thead>\n",
              "    <tr style=\"text-align: right;\">\n",
              "      <th></th>\n",
              "      <th>F1</th>\n",
              "      <th>F3</th>\n",
              "      <th>F4</th>\n",
              "      <th>F5</th>\n",
              "      <th>F6</th>\n",
              "      <th>F7</th>\n",
              "      <th>F9</th>\n",
              "      <th>F10</th>\n",
              "      <th>F11</th>\n",
              "      <th>F13</th>\n",
              "      <th>F14</th>\n",
              "      <th>F15</th>\n",
              "      <th>F16</th>\n",
              "      <th>Rest</th>\n",
              "      <th>UK</th>\n",
              "      <th>USA</th>\n",
              "      <th>High</th>\n",
              "      <th>Low</th>\n",
              "      <th>Very high</th>\n",
              "      <th>Very low</th>\n",
              "    </tr>\n",
              "  </thead>\n",
              "  <tbody>\n",
              "    <tr>\n",
              "      <th>0</th>\n",
              "      <td>193.83</td>\n",
              "      <td>49.74</td>\n",
              "      <td>14.16</td>\n",
              "      <td>213.02</td>\n",
              "      <td>343.06</td>\n",
              "      <td>1753.44</td>\n",
              "      <td>6.28</td>\n",
              "      <td>8</td>\n",
              "      <td>-5145.92</td>\n",
              "      <td>11.35</td>\n",
              "      <td>1.01</td>\n",
              "      <td>1</td>\n",
              "      <td>68.92</td>\n",
              "      <td>0</td>\n",
              "      <td>1</td>\n",
              "      <td>0</td>\n",
              "      <td>0</td>\n",
              "      <td>1</td>\n",
              "      <td>0</td>\n",
              "      <td>0</td>\n",
              "    </tr>\n",
              "    <tr>\n",
              "      <th>1</th>\n",
              "      <td>1495.47</td>\n",
              "      <td>58.02</td>\n",
              "      <td>5.88</td>\n",
              "      <td>137.80</td>\n",
              "      <td>270.48</td>\n",
              "      <td>1665.33</td>\n",
              "      <td>9.72</td>\n",
              "      <td>14</td>\n",
              "      <td>11145.82</td>\n",
              "      <td>10.30</td>\n",
              "      <td>0.30</td>\n",
              "      <td>5</td>\n",
              "      <td>89.30</td>\n",
              "      <td>0</td>\n",
              "      <td>0</td>\n",
              "      <td>0</td>\n",
              "      <td>1</td>\n",
              "      <td>0</td>\n",
              "      <td>0</td>\n",
              "      <td>0</td>\n",
              "    </tr>\n",
              "    <tr>\n",
              "      <th>2</th>\n",
              "      <td>1121.31</td>\n",
              "      <td>68.85</td>\n",
              "      <td>9.18</td>\n",
              "      <td>209.54</td>\n",
              "      <td>295.26</td>\n",
              "      <td>3208.65</td>\n",
              "      <td>3.86</td>\n",
              "      <td>6</td>\n",
              "      <td>31859.00</td>\n",
              "      <td>7.98</td>\n",
              "      <td>13.05</td>\n",
              "      <td>4</td>\n",
              "      <td>-11.80</td>\n",
              "      <td>0</td>\n",
              "      <td>0</td>\n",
              "      <td>1</td>\n",
              "      <td>0</td>\n",
              "      <td>0</td>\n",
              "      <td>0</td>\n",
              "      <td>0</td>\n",
              "    </tr>\n",
              "    <tr>\n",
              "      <th>3</th>\n",
              "      <td>-305.49</td>\n",
              "      <td>49.29</td>\n",
              "      <td>8.73</td>\n",
              "      <td>171.83</td>\n",
              "      <td>266.06</td>\n",
              "      <td>1704.18</td>\n",
              "      <td>4.16</td>\n",
              "      <td>6</td>\n",
              "      <td>8075.76</td>\n",
              "      <td>16.52</td>\n",
              "      <td>2.01</td>\n",
              "      <td>5</td>\n",
              "      <td>41.40</td>\n",
              "      <td>0</td>\n",
              "      <td>0</td>\n",
              "      <td>1</td>\n",
              "      <td>0</td>\n",
              "      <td>1</td>\n",
              "      <td>0</td>\n",
              "      <td>0</td>\n",
              "    </tr>\n",
              "    <tr>\n",
              "      <th>4</th>\n",
              "      <td>1457.07</td>\n",
              "      <td>64.98</td>\n",
              "      <td>7.92</td>\n",
              "      <td>74.10</td>\n",
              "      <td>260.22</td>\n",
              "      <td>1922.34</td>\n",
              "      <td>5.00</td>\n",
              "      <td>18</td>\n",
              "      <td>9886.72</td>\n",
              "      <td>5.37</td>\n",
              "      <td>0.01</td>\n",
              "      <td>1</td>\n",
              "      <td>62.74</td>\n",
              "      <td>0</td>\n",
              "      <td>1</td>\n",
              "      <td>0</td>\n",
              "      <td>1</td>\n",
              "      <td>0</td>\n",
              "      <td>0</td>\n",
              "      <td>0</td>\n",
              "    </tr>\n",
              "    <tr>\n",
              "      <th>...</th>\n",
              "      <td>...</td>\n",
              "      <td>...</td>\n",
              "      <td>...</td>\n",
              "      <td>...</td>\n",
              "      <td>...</td>\n",
              "      <td>...</td>\n",
              "      <td>...</td>\n",
              "      <td>...</td>\n",
              "      <td>...</td>\n",
              "      <td>...</td>\n",
              "      <td>...</td>\n",
              "      <td>...</td>\n",
              "      <td>...</td>\n",
              "      <td>...</td>\n",
              "      <td>...</td>\n",
              "      <td>...</td>\n",
              "      <td>...</td>\n",
              "      <td>...</td>\n",
              "      <td>...</td>\n",
              "      <td>...</td>\n",
              "    </tr>\n",
              "    <tr>\n",
              "      <th>1495</th>\n",
              "      <td>633.87</td>\n",
              "      <td>54.51</td>\n",
              "      <td>6.51</td>\n",
              "      <td>179.23</td>\n",
              "      <td>219.02</td>\n",
              "      <td>1064.04</td>\n",
              "      <td>2.74</td>\n",
              "      <td>8</td>\n",
              "      <td>19120.54</td>\n",
              "      <td>10.29</td>\n",
              "      <td>1.22</td>\n",
              "      <td>4</td>\n",
              "      <td>29.66</td>\n",
              "      <td>0</td>\n",
              "      <td>0</td>\n",
              "      <td>0</td>\n",
              "      <td>0</td>\n",
              "      <td>1</td>\n",
              "      <td>0</td>\n",
              "      <td>0</td>\n",
              "    </tr>\n",
              "    <tr>\n",
              "      <th>1496</th>\n",
              "      <td>390.45</td>\n",
              "      <td>65.97</td>\n",
              "      <td>6.81</td>\n",
              "      <td>154.23</td>\n",
              "      <td>261.36</td>\n",
              "      <td>527.31</td>\n",
              "      <td>23.50</td>\n",
              "      <td>8</td>\n",
              "      <td>1359.86</td>\n",
              "      <td>11.58</td>\n",
              "      <td>1.01</td>\n",
              "      <td>6</td>\n",
              "      <td>-40.00</td>\n",
              "      <td>1</td>\n",
              "      <td>0</td>\n",
              "      <td>0</td>\n",
              "      <td>0</td>\n",
              "      <td>1</td>\n",
              "      <td>0</td>\n",
              "      <td>0</td>\n",
              "    </tr>\n",
              "    <tr>\n",
              "      <th>1497</th>\n",
              "      <td>78.72</td>\n",
              "      <td>78.06</td>\n",
              "      <td>3.72</td>\n",
              "      <td>144.12</td>\n",
              "      <td>313.50</td>\n",
              "      <td>851.85</td>\n",
              "      <td>2.26</td>\n",
              "      <td>10</td>\n",
              "      <td>7519.18</td>\n",
              "      <td>15.07</td>\n",
              "      <td>0.03</td>\n",
              "      <td>4</td>\n",
              "      <td>44.80</td>\n",
              "      <td>0</td>\n",
              "      <td>1</td>\n",
              "      <td>0</td>\n",
              "      <td>0</td>\n",
              "      <td>1</td>\n",
              "      <td>0</td>\n",
              "      <td>0</td>\n",
              "    </tr>\n",
              "    <tr>\n",
              "      <th>1498</th>\n",
              "      <td>2366.88</td>\n",
              "      <td>92.49</td>\n",
              "      <td>26.64</td>\n",
              "      <td>255.96</td>\n",
              "      <td>326.36</td>\n",
              "      <td>2191.02</td>\n",
              "      <td>6.64</td>\n",
              "      <td>6</td>\n",
              "      <td>9741.86</td>\n",
              "      <td>11.40</td>\n",
              "      <td>42.04</td>\n",
              "      <td>3</td>\n",
              "      <td>29.96</td>\n",
              "      <td>1</td>\n",
              "      <td>0</td>\n",
              "      <td>0</td>\n",
              "      <td>0</td>\n",
              "      <td>1</td>\n",
              "      <td>0</td>\n",
              "      <td>0</td>\n",
              "    </tr>\n",
              "    <tr>\n",
              "      <th>1499</th>\n",
              "      <td>407.79</td>\n",
              "      <td>74.07</td>\n",
              "      <td>16.71</td>\n",
              "      <td>141.70</td>\n",
              "      <td>198.18</td>\n",
              "      <td>1400.88</td>\n",
              "      <td>21.60</td>\n",
              "      <td>2</td>\n",
              "      <td>2753.94</td>\n",
              "      <td>13.10</td>\n",
              "      <td>0.16</td>\n",
              "      <td>6</td>\n",
              "      <td>122.02</td>\n",
              "      <td>1</td>\n",
              "      <td>0</td>\n",
              "      <td>0</td>\n",
              "      <td>0</td>\n",
              "      <td>0</td>\n",
              "      <td>0</td>\n",
              "      <td>0</td>\n",
              "    </tr>\n",
              "  </tbody>\n",
              "</table>\n",
              "<p>1500 rows × 20 columns</p>\n",
              "</div>"
            ],
            "text/plain": [
              "           F1     F3     F4      F5      F6       F7     F9  F10       F11  \\\n",
              "0      193.83  49.74  14.16  213.02  343.06  1753.44   6.28    8  -5145.92   \n",
              "1     1495.47  58.02   5.88  137.80  270.48  1665.33   9.72   14  11145.82   \n",
              "2     1121.31  68.85   9.18  209.54  295.26  3208.65   3.86    6  31859.00   \n",
              "3     -305.49  49.29   8.73  171.83  266.06  1704.18   4.16    6   8075.76   \n",
              "4     1457.07  64.98   7.92   74.10  260.22  1922.34   5.00   18   9886.72   \n",
              "...       ...    ...    ...     ...     ...      ...    ...  ...       ...   \n",
              "1495   633.87  54.51   6.51  179.23  219.02  1064.04   2.74    8  19120.54   \n",
              "1496   390.45  65.97   6.81  154.23  261.36   527.31  23.50    8   1359.86   \n",
              "1497    78.72  78.06   3.72  144.12  313.50   851.85   2.26   10   7519.18   \n",
              "1498  2366.88  92.49  26.64  255.96  326.36  2191.02   6.64    6   9741.86   \n",
              "1499   407.79  74.07  16.71  141.70  198.18  1400.88  21.60    2   2753.94   \n",
              "\n",
              "        F13    F14  F15     F16  Rest  UK  USA  High  Low  Very high  Very low  \n",
              "0     11.35   1.01    1   68.92     0   1    0     0    1          0         0  \n",
              "1     10.30   0.30    5   89.30     0   0    0     1    0          0         0  \n",
              "2      7.98  13.05    4  -11.80     0   0    1     0    0          0         0  \n",
              "3     16.52   2.01    5   41.40     0   0    1     0    1          0         0  \n",
              "4      5.37   0.01    1   62.74     0   1    0     1    0          0         0  \n",
              "...     ...    ...  ...     ...   ...  ..  ...   ...  ...        ...       ...  \n",
              "1495  10.29   1.22    4   29.66     0   0    0     0    1          0         0  \n",
              "1496  11.58   1.01    6  -40.00     1   0    0     0    1          0         0  \n",
              "1497  15.07   0.03    4   44.80     0   1    0     0    1          0         0  \n",
              "1498  11.40  42.04    3   29.96     1   0    0     0    1          0         0  \n",
              "1499  13.10   0.16    6  122.02     1   0    0     0    0          0         0  \n",
              "\n",
              "[1500 rows x 20 columns]"
            ]
          },
          "metadata": {
            "tags": []
          },
          "execution_count": 106
        }
      ]
    },
    {
      "cell_type": "code",
      "metadata": {
        "scrolled": true,
        "id": "ojRs1sgtaKfh",
        "outputId": "f0150b6a-deb8-49d0-a17f-be00d4cf97ea"
      },
      "source": [
        "y=master.drop(['F1', 'F3', 'F4', 'F5', 'F7','F6', 'F9', 'F10', 'F11', 'F13', 'F14','F15', 'F16','Rest', 'UK', 'USA', 'High', 'Low', 'Very high','Very low'],axis=1)\n",
        "y"
      ],
      "execution_count": null,
      "outputs": [
        {
          "output_type": "execute_result",
          "data": {
            "text/html": [
              "<div>\n",
              "<style scoped>\n",
              "    .dataframe tbody tr th:only-of-type {\n",
              "        vertical-align: middle;\n",
              "    }\n",
              "\n",
              "    .dataframe tbody tr th {\n",
              "        vertical-align: top;\n",
              "    }\n",
              "\n",
              "    .dataframe thead th {\n",
              "        text-align: right;\n",
              "    }\n",
              "</style>\n",
              "<table border=\"1\" class=\"dataframe\">\n",
              "  <thead>\n",
              "    <tr style=\"text-align: right;\">\n",
              "      <th></th>\n",
              "      <th>Target</th>\n",
              "    </tr>\n",
              "  </thead>\n",
              "  <tbody>\n",
              "    <tr>\n",
              "      <th>0</th>\n",
              "      <td>51.16</td>\n",
              "    </tr>\n",
              "    <tr>\n",
              "      <th>1</th>\n",
              "      <td>0.00</td>\n",
              "    </tr>\n",
              "    <tr>\n",
              "      <th>2</th>\n",
              "      <td>2808.51</td>\n",
              "    </tr>\n",
              "    <tr>\n",
              "      <th>3</th>\n",
              "      <td>1092.21</td>\n",
              "    </tr>\n",
              "    <tr>\n",
              "      <th>4</th>\n",
              "      <td>0.00</td>\n",
              "    </tr>\n",
              "    <tr>\n",
              "      <th>...</th>\n",
              "      <td>...</td>\n",
              "    </tr>\n",
              "    <tr>\n",
              "      <th>1495</th>\n",
              "      <td>0.00</td>\n",
              "    </tr>\n",
              "    <tr>\n",
              "      <th>1496</th>\n",
              "      <td>1241.64</td>\n",
              "    </tr>\n",
              "    <tr>\n",
              "      <th>1497</th>\n",
              "      <td>0.00</td>\n",
              "    </tr>\n",
              "    <tr>\n",
              "      <th>1498</th>\n",
              "      <td>396.84</td>\n",
              "    </tr>\n",
              "    <tr>\n",
              "      <th>1499</th>\n",
              "      <td>1186.26</td>\n",
              "    </tr>\n",
              "  </tbody>\n",
              "</table>\n",
              "<p>1500 rows × 1 columns</p>\n",
              "</div>"
            ],
            "text/plain": [
              "       Target\n",
              "0       51.16\n",
              "1        0.00\n",
              "2     2808.51\n",
              "3     1092.21\n",
              "4        0.00\n",
              "...       ...\n",
              "1495     0.00\n",
              "1496  1241.64\n",
              "1497     0.00\n",
              "1498   396.84\n",
              "1499  1186.26\n",
              "\n",
              "[1500 rows x 1 columns]"
            ]
          },
          "metadata": {
            "tags": []
          },
          "execution_count": 125
        }
      ]
    },
    {
      "cell_type": "markdown",
      "metadata": {
        "id": "0t4j92WUaKfi"
      },
      "source": [
        "Scaling the data to use in models which performs better with scaled data"
      ]
    },
    {
      "cell_type": "code",
      "metadata": {
        "id": "prBRtwUcaKfi"
      },
      "source": [
        "from sklearn.preprocessing import MinMaxScaler\n",
        "scaler_x = MinMaxScaler()\n",
        "scaler_y = MinMaxScaler()\n",
        "\n",
        "# transform data\n",
        "scaled_x = scaler_x.fit_transform(x)\n",
        "sx=pd.DataFrame(scaled_x)\n",
        "scaled_y = scaler_y.fit_transform(pd.DataFrame(y))\n"
      ],
      "execution_count": null,
      "outputs": []
    },
    {
      "cell_type": "markdown",
      "metadata": {
        "id": "BWSkU03caKfj"
      },
      "source": [
        "# Linear Regression"
      ]
    },
    {
      "cell_type": "code",
      "metadata": {
        "id": "ttYCECXAaKfj",
        "outputId": "5a717c46-9bb3-413f-b40e-932047b90e37"
      },
      "source": [
        "#split the data into training and test\n",
        "x_train,x_test,y_train,y_test=train_test_split(x,y,test_size=0.3)\n",
        "print(x_train.shape,y_train.shape)\n"
      ],
      "execution_count": null,
      "outputs": [
        {
          "output_type": "stream",
          "text": [
            "(1050, 20) (1050, 1)\n"
          ],
          "name": "stdout"
        }
      ]
    },
    {
      "cell_type": "code",
      "metadata": {
        "id": "Sc9ZFu1RaKfk"
      },
      "source": [
        "#fit the model based on training data\n",
        "from sklearn.linear_model import LinearRegression\n",
        "lm=LinearRegression()\n",
        "model=lm.fit(x_train,y_train)\n"
      ],
      "execution_count": null,
      "outputs": []
    },
    {
      "cell_type": "code",
      "metadata": {
        "id": "FePCgNuFaKfk"
      },
      "source": [
        "y_pred=lm.predict(x_test)"
      ],
      "execution_count": null,
      "outputs": []
    },
    {
      "cell_type": "markdown",
      "metadata": {
        "id": "SWyjBBVcaKfl"
      },
      "source": [
        "Model Evaluation"
      ]
    },
    {
      "cell_type": "code",
      "metadata": {
        "id": "-FeJ4tilaKfl",
        "outputId": "7e4a41c5-9dda-4262-dbd9-dc8a8793f2ab"
      },
      "source": [
        "print(\"\\nMSE:\",mean_squared_error(y_test, y_pred)) #234972.52644170934\n",
        "\n",
        "print(\"\\nRMSE:\",rmse(y_test, y_pred))#484.7396481016478"
      ],
      "execution_count": null,
      "outputs": [
        {
          "output_type": "stream",
          "text": [
            "\n",
            "MSE: 234630.58577613274\n",
            "\n",
            "RMSE: Target    484.386814\n",
            "dtype: float64\n"
          ],
          "name": "stdout"
        }
      ]
    },
    {
      "cell_type": "code",
      "metadata": {
        "id": "dg32fIczaKfm",
        "outputId": "cb1ee0a2-8fc2-4186-de4f-cc73ccec8ac7"
      },
      "source": [
        "metrics.r2_score(y_test, y_pred) # previous r2_score-76, after dropping cols-'Europe','F8','Medium' it's now-84"
      ],
      "execution_count": null,
      "outputs": [
        {
          "output_type": "execute_result",
          "data": {
            "text/plain": [
              "0.7877018586180807"
            ]
          },
          "metadata": {
            "tags": []
          },
          "execution_count": 143
        }
      ]
    },
    {
      "cell_type": "code",
      "metadata": {
        "id": "rkeW8OT4aKfm",
        "outputId": "e4687f6b-5d7f-4605-e92e-0a416edbef03"
      },
      "source": [
        "#function for cross-validation scores\n",
        "cv(lm,model)"
      ],
      "execution_count": null,
      "outputs": [
        {
          "output_type": "stream",
          "text": [
            "Cross-validated scores: [0.77451946 0.77257919 0.79549841 0.77269271 0.76966629 0.78156494\n",
            " 0.80484266 0.78761744 0.78222951 0.76233356]\n",
            "\n",
            " Average Cross-validated score: 0.7803544166562195 \n",
            "\n",
            "CrossVal-Predicted Accuracy: 0.7814414151520405\n"
          ],
          "name": "stdout"
        }
      ]
    },
    {
      "cell_type": "markdown",
      "metadata": {
        "id": "9JQj_lRYaKfn"
      },
      "source": [
        "# Decision Tree Regressor\n"
      ]
    },
    {
      "cell_type": "code",
      "metadata": {
        "id": "E-VPmYDiaKfn",
        "outputId": "2d10ded4-87f4-4037-c31d-cf7e271c8e04"
      },
      "source": [
        "#split the data into training and test\n",
        "x_train,x_test,y_train,y_test=train_test_split(sx,scaled_y,test_size=0.3)\n",
        "print(x_train.shape,y_train.shape)\n"
      ],
      "execution_count": null,
      "outputs": [
        {
          "output_type": "stream",
          "text": [
            "(1050, 20) (1050, 1)\n"
          ],
          "name": "stdout"
        }
      ]
    },
    {
      "cell_type": "code",
      "metadata": {
        "id": "qfi5q8rcaKfo"
      },
      "source": [
        "from sklearn.tree import DecisionTreeRegressor\n",
        "dtr=DecisionTreeRegressor()\n",
        "model=dtr.fit(x_train,y_train)\n",
        "y_pred=dtr.predict(x_test)"
      ],
      "execution_count": null,
      "outputs": []
    },
    {
      "cell_type": "code",
      "metadata": {
        "id": "UfmHZ0CAaKfo"
      },
      "source": [
        "y_pred=y_pred.reshape(450,1)"
      ],
      "execution_count": null,
      "outputs": []
    },
    {
      "cell_type": "markdown",
      "metadata": {
        "id": "0HKdhE0eaKfp"
      },
      "source": [
        "Model Evaluation"
      ]
    },
    {
      "cell_type": "code",
      "metadata": {
        "id": "s9Yz5LJOaKfp",
        "outputId": "1b56b06a-12bd-4e39-9c42-253599bf72f8"
      },
      "source": [
        "print(\"\\nMSE:\",mean_squared_error(y_test, y_pred)) \n",
        "\n",
        "print(\"\\nRMSE:\",rmse(y_test, y_pred))"
      ],
      "execution_count": null,
      "outputs": [
        {
          "output_type": "stream",
          "text": [
            "\n",
            "MSE: 0.05743674882928846\n",
            "\n",
            "RMSE: 0.23965965206786155\n"
          ],
          "name": "stdout"
        }
      ]
    },
    {
      "cell_type": "code",
      "metadata": {
        "id": "Rva5fuT1aKfq",
        "outputId": "3a3f5a61-660f-4537-fbec-e750c28209ab"
      },
      "source": [
        "metrics.r2_score(y_test, y_pred) # prev-76, now-84"
      ],
      "execution_count": null,
      "outputs": [
        {
          "output_type": "execute_result",
          "data": {
            "text/plain": [
              "0.24183202488950262"
            ]
          },
          "metadata": {
            "tags": []
          },
          "execution_count": 49
        }
      ]
    },
    {
      "cell_type": "code",
      "metadata": {
        "id": "5S3CtCXtaKfq",
        "outputId": "a7e14746-5be2-4708-fd3b-98405e5feacc"
      },
      "source": [
        "\n",
        "#function for cross-validation scores\n",
        "cv(dtr,model)\n"
      ],
      "execution_count": null,
      "outputs": [
        {
          "output_type": "stream",
          "text": [
            "Cross-validated scores: [0.23729553 0.29086302 0.26177527 0.21175535 0.43294471 0.36266263\n",
            " 0.23643318 0.20674162 0.43382458 0.39283202]\n",
            "\n",
            " Average Cross-validated score: 0.30671279043899446 \n",
            "\n",
            "CrossVal-Predicted Accuracy: 0.2987906262912373\n"
          ],
          "name": "stdout"
        }
      ]
    },
    {
      "cell_type": "code",
      "metadata": {
        "id": "6hfO4p5eaKfr"
      },
      "source": [
        "y_pred=y_pred.reshape(450,1)"
      ],
      "execution_count": null,
      "outputs": []
    },
    {
      "cell_type": "code",
      "metadata": {
        "id": "5jFYEH3OaKfr",
        "outputId": "50209a13-2ccd-42de-9de3-5bed7ece6052"
      },
      "source": [
        "invscaled_y = scaler_y.inverse_transform(y_pred)\n",
        "invscaled_yt = scaler_y.inverse_transform(y_test)\n",
        "rmse(invscaled_yt,invscaled_y)\n"
      ],
      "execution_count": null,
      "outputs": [
        {
          "output_type": "execute_result",
          "data": {
            "text/plain": [
              "949.0546187852525"
            ]
          },
          "metadata": {
            "tags": []
          },
          "execution_count": 52
        }
      ]
    },
    {
      "cell_type": "markdown",
      "metadata": {
        "id": "JVJAKsVIaKfs"
      },
      "source": [
        "# XGBoost Regressor"
      ]
    },
    {
      "cell_type": "code",
      "metadata": {
        "id": "rn49PQfqaKft",
        "outputId": "2f3ba210-a471-4188-e9c9-092816ab7a75"
      },
      "source": [
        "#split the data into training and test\n",
        "x_train,x_test,y_train,y_test=train_test_split(sx,scaled_y,test_size=0.3)\n",
        "print(x_train.shape,y_train.shape)\n"
      ],
      "execution_count": null,
      "outputs": [
        {
          "output_type": "stream",
          "text": [
            "(1050, 20) (1050, 1)\n"
          ],
          "name": "stdout"
        }
      ]
    },
    {
      "cell_type": "code",
      "metadata": {
        "id": "IpGIjTpuaKft"
      },
      "source": [
        "#import the model \n",
        "import xgboost as xgb\n"
      ],
      "execution_count": null,
      "outputs": []
    },
    {
      "cell_type": "code",
      "metadata": {
        "id": "U0Oaj_JIaKfu"
      },
      "source": [
        "#pip install xgboost"
      ],
      "execution_count": null,
      "outputs": []
    },
    {
      "cell_type": "code",
      "metadata": {
        "id": "k170plGzaKfu"
      },
      "source": [
        "xg_reg = xgb.XGBRegressor()"
      ],
      "execution_count": null,
      "outputs": []
    },
    {
      "cell_type": "code",
      "metadata": {
        "id": "AAH8icegaKfv",
        "outputId": "a47897df-33e5-479c-a728-a5776518aa13"
      },
      "source": [
        "parameters = {'objective':['reg:linear'],\n",
        "              'learning_rate': [.03, 0.05, .07], #`eta` value\n",
        "              'max_depth': [5, 6, 7,8,9,10],\n",
        "              'colsample_bytree': [0.7],\n",
        "              'n_estimators': [100,200,300,500]}\n",
        "\n",
        "xgb_grid = GridSearchCV(xg_reg,\n",
        "                        parameters,\n",
        "                        cv = 2,\n",
        "                        n_jobs = 5,\n",
        "                        verbose=True)\n",
        "\n",
        "xgb_grid.fit(x_train,y_train)\n",
        "\n",
        "print(xgb_grid.best_score_)\n",
        "print(xgb_grid.best_params_)"
      ],
      "execution_count": null,
      "outputs": [
        {
          "output_type": "stream",
          "text": [
            "Fitting 2 folds for each of 72 candidates, totalling 144 fits\n"
          ],
          "name": "stdout"
        },
        {
          "output_type": "stream",
          "text": [
            "[Parallel(n_jobs=5)]: Using backend LokyBackend with 5 concurrent workers.\n",
            "[Parallel(n_jobs=5)]: Done  40 tasks      | elapsed:    8.2s\n",
            "[Parallel(n_jobs=5)]: Done 144 out of 144 | elapsed:   30.4s finished\n"
          ],
          "name": "stderr"
        },
        {
          "output_type": "stream",
          "text": [
            "[18:46:20] WARNING: C:/Users/Administrator/workspace/xgboost-win64_release_1.3.0/src/objective/regression_obj.cu:170: reg:linear is now deprecated in favor of reg:squarederror.\n",
            "0.736371651174853\n",
            "{'colsample_bytree': 0.7, 'learning_rate': 0.03, 'max_depth': 5, 'n_estimators': 500, 'objective': 'reg:linear'}\n"
          ],
          "name": "stdout"
        }
      ]
    },
    {
      "cell_type": "code",
      "metadata": {
        "id": "zfvblCkiaKfv"
      },
      "source": [
        "#parameter tuning\n",
        "xg_reg = xgb.XGBRegressor(learning_rate = 0.03,max_depth = 5,n_estimators = 500)"
      ],
      "execution_count": null,
      "outputs": []
    },
    {
      "cell_type": "code",
      "metadata": {
        "id": "UH9n2RqEaKfw"
      },
      "source": [
        "model=xg_reg.fit(x_train,y_train)\n",
        "\n",
        "y_pred = xg_reg.predict(x_test)"
      ],
      "execution_count": null,
      "outputs": []
    },
    {
      "cell_type": "code",
      "metadata": {
        "id": "OlcUV9mzaKfx"
      },
      "source": [
        "y_pred=y_pred.reshape(450,1)"
      ],
      "execution_count": null,
      "outputs": []
    },
    {
      "cell_type": "markdown",
      "metadata": {
        "id": "MgGfz_D-aKfx"
      },
      "source": [
        "Model Evaluation"
      ]
    },
    {
      "cell_type": "code",
      "metadata": {
        "id": "HEHnh38PaKfy",
        "outputId": "5200a108-9299-4694-f135-f2e1ec9e2f5a"
      },
      "source": [
        "print(\"\\nMSE:\",mean_squared_error(y_test, y_pred)) #\n",
        "\n",
        "print(\"\\nRMSE:\",rmse(y_test, y_pred))#\n",
        "\n",
        "print(\"\\nr2_score is :\",metrics.r2_score(y_test, y_pred) )#"
      ],
      "execution_count": null,
      "outputs": [
        {
          "output_type": "stream",
          "text": [
            "\n",
            "MSE: 0.013170199333391738\n",
            "\n",
            "RMSE: 0.11476148889497617\n",
            "\n",
            "r2_score is : 0.8260445848577905\n"
          ],
          "name": "stdout"
        }
      ]
    },
    {
      "cell_type": "code",
      "metadata": {
        "id": "SuUQc_s5aKfy",
        "outputId": "49e4597a-1704-4909-f664-ceb90e7bc224"
      },
      "source": [
        "cv(xg_reg,model)"
      ],
      "execution_count": null,
      "outputs": [
        {
          "output_type": "stream",
          "text": [
            "Cross-validated scores: [0.83124768 0.81996114 0.82003829 0.83952685 0.86786761 0.79534643\n",
            " 0.80153247 0.81177028 0.83479672 0.80595774]\n",
            "\n",
            " Average Cross-validated score: 0.8228045218631506 \n",
            "\n",
            "CrossVal-Predicted Accuracy: 0.8237069595156978\n"
          ],
          "name": "stdout"
        }
      ]
    },
    {
      "cell_type": "code",
      "metadata": {
        "id": "x0CK_Fn7aKfz",
        "outputId": "5a6a7b44-6b71-482e-f14b-d7af65df11b1"
      },
      "source": [
        "invscaled_y = scaler_y.inverse_transform(y_pred)\n",
        "invscaled_yt = scaler_y.inverse_transform(y_test)\n",
        "rmse(invscaled_yt,invscaled_y)\n"
      ],
      "execution_count": null,
      "outputs": [
        {
          "output_type": "execute_result",
          "data": {
            "text/plain": [
              "454.45664755594225"
            ]
          },
          "metadata": {
            "tags": []
          },
          "execution_count": 74
        }
      ]
    },
    {
      "cell_type": "markdown",
      "metadata": {
        "id": "zQtv0Y5baKfz"
      },
      "source": [
        "# KNN Regressor"
      ]
    },
    {
      "cell_type": "code",
      "metadata": {
        "id": "nKpob7cxaKf0",
        "outputId": "6ab8fe9d-67bf-4cc3-b2f8-894eb62c8898"
      },
      "source": [
        "#split the data into training and test\n",
        "x_train,x_test,y_train,y_test=train_test_split(sx,scaled_y,test_size=0.3)\n",
        "print(x_train.shape,y_train.shape)\n"
      ],
      "execution_count": null,
      "outputs": [
        {
          "output_type": "stream",
          "text": [
            "(1050, 20) (1050, 1)\n"
          ],
          "name": "stdout"
        }
      ]
    },
    {
      "cell_type": "code",
      "metadata": {
        "id": "5QnHgJFZaKf0"
      },
      "source": [
        "from sklearn import neighbors\n"
      ],
      "execution_count": null,
      "outputs": []
    },
    {
      "cell_type": "code",
      "metadata": {
        "id": "daJDgZigaKf1",
        "outputId": "fed5a84a-d9b8-4a78-f890-746cd9d6ac85"
      },
      "source": [
        "rmse_val = [] #to store rmse values for different k\n",
        "for K in range(100):\n",
        "    K = K+1\n",
        "    model = neighbors.KNeighborsRegressor(n_neighbors = K)\n",
        "\n",
        "    model.fit(x_train, y_train)  #fit the model\n",
        "    pred=model.predict(x_test) #make prediction on test set\n",
        "    error =rmse(y_test,pred) #calculate rmse\n",
        "    rmse_val.append(error) #store rmse values\n",
        "    print('RMSE value for k= ' , K , 'is:', error) #17 is the least"
      ],
      "execution_count": null,
      "outputs": [
        {
          "output_type": "stream",
          "text": [
            "RMSE value for k=  1 is: 0.23282049845932973\n",
            "RMSE value for k=  2 is: 0.202498617748939\n",
            "RMSE value for k=  3 is: 0.18893588541128564\n",
            "RMSE value for k=  4 is: 0.18717694388541634\n",
            "RMSE value for k=  5 is: 0.18243710494011176\n",
            "RMSE value for k=  6 is: 0.18750572922666683\n",
            "RMSE value for k=  7 is: 0.18733273413816948\n",
            "RMSE value for k=  8 is: 0.19027360613340843\n",
            "RMSE value for k=  9 is: 0.18847124074312419\n",
            "RMSE value for k=  10 is: 0.19010754750062314\n",
            "RMSE value for k=  11 is: 0.19396519244387328\n",
            "RMSE value for k=  12 is: 0.1959868495464979\n",
            "RMSE value for k=  13 is: 0.19825177861454088\n",
            "RMSE value for k=  14 is: 0.19964614149148574\n",
            "RMSE value for k=  15 is: 0.20299271897476956\n",
            "RMSE value for k=  16 is: 0.20625647018384868\n",
            "RMSE value for k=  17 is: 0.20749933632480283\n",
            "RMSE value for k=  18 is: 0.2085683178988635\n",
            "RMSE value for k=  19 is: 0.2095367640977576\n",
            "RMSE value for k=  20 is: 0.2101512801963746\n",
            "RMSE value for k=  21 is: 0.21226876465149366\n",
            "RMSE value for k=  22 is: 0.2145548943926926\n",
            "RMSE value for k=  23 is: 0.2163287084214894\n",
            "RMSE value for k=  24 is: 0.2170413853983097\n",
            "RMSE value for k=  25 is: 0.21679926499892838\n",
            "RMSE value for k=  26 is: 0.21887478096928606\n",
            "RMSE value for k=  27 is: 0.2199915031168119\n",
            "RMSE value for k=  28 is: 0.22214378730172438\n",
            "RMSE value for k=  29 is: 0.2237012219754035\n",
            "RMSE value for k=  30 is: 0.22508481008206518\n",
            "RMSE value for k=  31 is: 0.22535028202421392\n",
            "RMSE value for k=  32 is: 0.22712218073161616\n",
            "RMSE value for k=  33 is: 0.22881393097509556\n",
            "RMSE value for k=  34 is: 0.2304198391723507\n",
            "RMSE value for k=  35 is: 0.23232677488120496\n",
            "RMSE value for k=  36 is: 0.23332354764832192\n",
            "RMSE value for k=  37 is: 0.23512675129197153\n",
            "RMSE value for k=  38 is: 0.23670459729047308\n",
            "RMSE value for k=  39 is: 0.2383122824332324\n",
            "RMSE value for k=  40 is: 0.23937885248084737\n",
            "RMSE value for k=  41 is: 0.24150375544453373\n",
            "RMSE value for k=  42 is: 0.24311661013597236\n",
            "RMSE value for k=  43 is: 0.2444356677688538\n",
            "RMSE value for k=  44 is: 0.24552398520198007\n",
            "RMSE value for k=  45 is: 0.24646280982484697\n",
            "RMSE value for k=  46 is: 0.24789107150492068\n",
            "RMSE value for k=  47 is: 0.2482914374605696\n",
            "RMSE value for k=  48 is: 0.2488979962921862\n",
            "RMSE value for k=  49 is: 0.24939844626750937\n",
            "RMSE value for k=  50 is: 0.2499477544519226\n",
            "RMSE value for k=  51 is: 0.25027896266766325\n",
            "RMSE value for k=  52 is: 0.2506118131354551\n",
            "RMSE value for k=  53 is: 0.25063056631008956\n",
            "RMSE value for k=  54 is: 0.2508315942235718\n",
            "RMSE value for k=  55 is: 0.2504307234449898\n",
            "RMSE value for k=  56 is: 0.2494322270093672\n",
            "RMSE value for k=  57 is: 0.24774058739851956\n",
            "RMSE value for k=  58 is: 0.24642297242674135\n",
            "RMSE value for k=  59 is: 0.2449385573784539\n",
            "RMSE value for k=  60 is: 0.2437661643663953\n",
            "RMSE value for k=  61 is: 0.24268484085504954\n",
            "RMSE value for k=  62 is: 0.24189087849551377\n",
            "RMSE value for k=  63 is: 0.24092686169989566\n",
            "RMSE value for k=  64 is: 0.2399414952694818\n",
            "RMSE value for k=  65 is: 0.23919702386669753\n",
            "RMSE value for k=  66 is: 0.23811487768716702\n",
            "RMSE value for k=  67 is: 0.2376414920858822\n",
            "RMSE value for k=  68 is: 0.2372537733132656\n",
            "RMSE value for k=  69 is: 0.23661188724503457\n",
            "RMSE value for k=  70 is: 0.2359549274798297\n",
            "RMSE value for k=  71 is: 0.23540310498727704\n",
            "RMSE value for k=  72 is: 0.23493281241878422\n",
            "RMSE value for k=  73 is: 0.2344350068476507\n",
            "RMSE value for k=  74 is: 0.23413546981369432\n",
            "RMSE value for k=  75 is: 0.23393187727098988\n",
            "RMSE value for k=  76 is: 0.23359918206754057\n",
            "RMSE value for k=  77 is: 0.23366132306097187\n",
            "RMSE value for k=  78 is: 0.23343606225103664\n",
            "RMSE value for k=  79 is: 0.2330957677922014\n",
            "RMSE value for k=  80 is: 0.23288251572627366\n",
            "RMSE value for k=  81 is: 0.23264874315961742\n",
            "RMSE value for k=  82 is: 0.23248014153487656\n",
            "RMSE value for k=  83 is: 0.2322188066546688\n",
            "RMSE value for k=  84 is: 0.23164761090167368\n",
            "RMSE value for k=  85 is: 0.2314624946615547\n",
            "RMSE value for k=  86 is: 0.231400579937066\n",
            "RMSE value for k=  87 is: 0.2315561373208367\n",
            "RMSE value for k=  88 is: 0.23194556139817618\n",
            "RMSE value for k=  89 is: 0.23203308047444907\n",
            "RMSE value for k=  90 is: 0.23220253612968436\n",
            "RMSE value for k=  91 is: 0.23201547854340718\n",
            "RMSE value for k=  92 is: 0.23210525140330343\n",
            "RMSE value for k=  93 is: 0.23211069629621786\n",
            "RMSE value for k=  94 is: 0.23214364659756043\n",
            "RMSE value for k=  95 is: 0.2322656855817271\n",
            "RMSE value for k=  96 is: 0.23228068761151102\n",
            "RMSE value for k=  97 is: 0.23237883622195787\n",
            "RMSE value for k=  98 is: 0.23227015176355595\n",
            "RMSE value for k=  99 is: 0.23258852218231113\n",
            "RMSE value for k=  100 is: 0.232408390348483\n"
          ],
          "name": "stdout"
        }
      ]
    },
    {
      "cell_type": "code",
      "metadata": {
        "id": "_VK8tgWnaKf1",
        "outputId": "e1f56b54-814e-427c-a021-856d87c842e7"
      },
      "source": [
        "#plotting the rmse values against k values\n",
        "curve = pd.DataFrame(rmse_val) #elbow curve \n",
        "curve.plot()"
      ],
      "execution_count": null,
      "outputs": [
        {
          "output_type": "execute_result",
          "data": {
            "text/plain": [
              "<matplotlib.axes._subplots.AxesSubplot at 0x1d55510ad08>"
            ]
          },
          "metadata": {
            "tags": []
          },
          "execution_count": 93
        },
        {
          "output_type": "display_data",
          "data": {
            "image/png": "[encoded data removed]",
            "text/plain": [
              "<Figure size 432x288 with 1 Axes>"
            ]
          },
          "metadata": {
            "tags": [],
            "needs_background": "light"
          }
        }
      ]
    },
    {
      "cell_type": "code",
      "metadata": {
        "id": "jFq0fGLPaKf2",
        "outputId": "09899e35-4d14-42d6-a6be-f8d32c9e7ccc"
      },
      "source": [
        "from sklearn.model_selection import GridSearchCV\n",
        "params={'n_neighbors':list(range(2, 200))}\n",
        "knn = neighbors.KNeighborsRegressor()\n",
        "\n",
        "model = GridSearchCV(knn,param_grid=params, cv=10)\n",
        "model.fit(x_train,y_train)\n",
        "model.best_params_"
      ],
      "execution_count": null,
      "outputs": [
        {
          "output_type": "execute_result",
          "data": {
            "text/plain": [
              "{'n_neighbors': 44}"
            ]
          },
          "metadata": {
            "tags": []
          },
          "execution_count": 89
        }
      ]
    },
    {
      "cell_type": "code",
      "metadata": {
        "scrolled": false,
        "id": "TER0XhYTaKf3",
        "outputId": "79c636eb-d35d-45aa-e808-4391fe183534"
      },
      "source": [
        "model"
      ],
      "execution_count": null,
      "outputs": [
        {
          "output_type": "execute_result",
          "data": {
            "text/plain": [
              "GridSearchCV(cv=10, error_score=nan,\n",
              "             estimator=KNeighborsRegressor(algorithm='auto', leaf_size=30,\n",
              "                                           metric='minkowski',\n",
              "                                           metric_params=None, n_jobs=None,\n",
              "                                           n_neighbors=5, p=2,\n",
              "                                           weights='uniform'),\n",
              "             iid='deprecated', n_jobs=None,\n",
              "             param_grid={'n_neighbors': [2, 3, 4, 5, 6, 7, 8, 9, 10, 11, 12, 13,\n",
              "                                         14, 15, 16, 17, 18, 19, 20, 21, 22, 23,\n",
              "                                         24, 25, 26, 27, 28, 29, 30, 31, ...]},\n",
              "             pre_dispatch='2*n_jobs', refit=True, return_train_score=False,\n",
              "             scoring=None, verbose=0)"
            ]
          },
          "metadata": {
            "tags": []
          },
          "execution_count": 62
        }
      ]
    },
    {
      "cell_type": "markdown",
      "metadata": {
        "id": "o7zBBwYOaKf3"
      },
      "source": [
        "Fitting the tuned model and evaluation of accuracy"
      ]
    },
    {
      "cell_type": "code",
      "metadata": {
        "id": "H0uy3U38aKf3",
        "outputId": "0eb30da8-60b6-4f34-b2f4-f91e18c0a810"
      },
      "source": [
        "model = neighbors.KNeighborsRegressor(n_neighbors = 44)\n",
        "\n",
        "model.fit(x_train, y_train)  #fit the model\n",
        "pred=model.predict(x_test) #make prediction on test set\n",
        "error =rmse(y_test,pred) #calculate rmse\n",
        "print('RMSE value for k= 4 is:', error) "
      ],
      "execution_count": null,
      "outputs": [
        {
          "output_type": "stream",
          "text": [
            "RMSE value for k= 4 is: 0.18717694388541634\n"
          ],
          "name": "stdout"
        }
      ]
    },
    {
      "cell_type": "code",
      "metadata": {
        "id": "I4SKRwyQaKf4",
        "outputId": "58f96600-58cb-4c05-fa9e-be1c6acf7795"
      },
      "source": [
        "invscaled_y = scaler_y.inverse_transform(pred)\n",
        "invscaled_yt = scaler_y.inverse_transform(y_test)\n",
        "rmse(invscaled_yt,invscaled_y)\n"
      ],
      "execution_count": null,
      "outputs": [
        {
          "output_type": "execute_result",
          "data": {
            "text/plain": [
              "741.2225695556876"
            ]
          },
          "metadata": {
            "tags": []
          },
          "execution_count": 95
        }
      ]
    },
    {
      "cell_type": "markdown",
      "metadata": {
        "id": "GLVUZxmyaKf5"
      },
      "source": [
        "# Random Forest "
      ]
    },
    {
      "cell_type": "code",
      "metadata": {
        "id": "fjRFFcjqaKf5",
        "outputId": "68c39d26-09c1-48ee-f6b7-f0f0cb62f6bb"
      },
      "source": [
        "#split the data into training and test\n",
        "from sklearn.model_selection import train_test_split\n",
        "x_train1,x_test1,y_train1,y_test1=train_test_split(sx,scaled_y,test_size=0.3)\n",
        "print(x_train1.shape,y_train1.shape)\n"
      ],
      "execution_count": null,
      "outputs": [
        {
          "output_type": "stream",
          "text": [
            "(1050, 20) (1050, 1)\n"
          ],
          "name": "stdout"
        }
      ]
    },
    {
      "cell_type": "code",
      "metadata": {
        "id": "K8Y4AWBmaKf5"
      },
      "source": [
        "# Import the model we are using\n",
        "from sklearn.ensemble import RandomForestRegressor\n",
        "rf = RandomForestRegressor()\n",
        "\n",
        "# Train the model on training data\n",
        "rf.fit(x_train1,y_train1.ravel())\n",
        "#predict values for testing set\n",
        "y_pred1 = rf.predict(x_test1)"
      ],
      "execution_count": null,
      "outputs": []
    },
    {
      "cell_type": "markdown",
      "metadata": {
        "id": "3JJCZ1xxaKf6"
      },
      "source": [
        "Model evaluation"
      ]
    },
    {
      "cell_type": "code",
      "metadata": {
        "id": "t0Ca3fE3aKf6",
        "outputId": "db8b6133-0c19-44d5-aaf5-09a84f09f4cd"
      },
      "source": [
        "\n",
        "print(\"\\nMSE:\",mean_squared_error(y_test1, y_pred1)) #\n",
        "\n",
        "print(\"\\nRMSE:\",rmse(y_test1, y_pred1))#\n",
        "\n",
        "metrics.r2_score(y_test1, y_pred1) #"
      ],
      "execution_count": null,
      "outputs": [
        {
          "output_type": "stream",
          "text": [
            "\n",
            "MSE: 0.023050546015228605\n",
            "\n",
            "RMSE: 0.32515910718677726\n"
          ],
          "name": "stdout"
        },
        {
          "output_type": "execute_result",
          "data": {
            "text/plain": [
              "0.6849693129687033"
            ]
          },
          "metadata": {
            "tags": []
          },
          "execution_count": 98
        }
      ]
    },
    {
      "cell_type": "markdown",
      "metadata": {
        "id": "hSCVrBWUaKf7"
      },
      "source": [
        "Hyperparameter tuning using GridSearchCV"
      ]
    },
    {
      "cell_type": "code",
      "metadata": {
        "id": "LpBdVn8OaKf7",
        "outputId": "d2ad9109-34ad-4875-983a-dc196bc169ef"
      },
      "source": [
        "from sklearn.model_selection import GridSearchCV\n",
        "n_estimators=[100,125,150,200]\n",
        "max_depth = [2,4,6,8,10,12,None]\n",
        "\n",
        "param_grid = {'n_estimators':n_estimators, 'max_features':['auto'],'max_depth':max_depth, 'criterion':['mse','mae']}\n",
        "\n",
        "# instantiate the grid\n",
        "grid = GridSearchCV(estimator=rf, param_grid=param_grid, cv=5,n_jobs=10)\n",
        "\n",
        "# fit the grid with data\n",
        "grid.fit(x_train1, y_train1.ravel())"
      ],
      "execution_count": null,
      "outputs": [
        {
          "output_type": "execute_result",
          "data": {
            "text/plain": [
              "GridSearchCV(cv=5, error_score=nan,\n",
              "             estimator=RandomForestRegressor(bootstrap=True, ccp_alpha=0.0,\n",
              "                                             criterion='mse', max_depth=None,\n",
              "                                             max_features='auto',\n",
              "                                             max_leaf_nodes=None,\n",
              "                                             max_samples=None,\n",
              "                                             min_impurity_decrease=0.0,\n",
              "                                             min_impurity_split=None,\n",
              "                                             min_samples_leaf=1,\n",
              "                                             min_samples_split=2,\n",
              "                                             min_weight_fraction_leaf=0.0,\n",
              "                                             n_estimators=100, n_jobs=None,\n",
              "                                             oob_score=False, random_state=None,\n",
              "                                             verbose=0, warm_start=False),\n",
              "             iid='deprecated', n_jobs=10,\n",
              "             param_grid={'criterion': ['mse', 'mae'],\n",
              "                         'max_depth': [2, 4, 6, 8, 10, 12, None],\n",
              "                         'max_features': ['auto'],\n",
              "                         'n_estimators': [100, 125, 150, 200]},\n",
              "             pre_dispatch='2*n_jobs', refit=True, return_train_score=False,\n",
              "             scoring=None, verbose=0)"
            ]
          },
          "metadata": {
            "tags": []
          },
          "execution_count": 22
        }
      ]
    },
    {
      "cell_type": "code",
      "metadata": {
        "id": "FzIBa9BMaKf8",
        "outputId": "b2bd7320-fc03-40c6-bae9-814099d7484e"
      },
      "source": [
        "#best model parameters\n",
        "print(grid.best_params_)\n"
      ],
      "execution_count": null,
      "outputs": [
        {
          "output_type": "stream",
          "text": [
            "{'criterion': 'mse', 'max_depth': 12, 'max_features': 'auto', 'n_estimators': 125}\n"
          ],
          "name": "stdout"
        }
      ]
    },
    {
      "cell_type": "markdown",
      "metadata": {
        "id": "6h9BkLGiaKf8"
      },
      "source": [
        "Fitting the model with tuned parameters "
      ]
    },
    {
      "cell_type": "code",
      "metadata": {
        "id": "80hQ0zX0aKf9"
      },
      "source": [
        "rf = RandomForestRegressor(criterion='mse',max_depth= 12, max_features='auto', n_estimators= 125)\n",
        "rf.fit(x_train1,y_train1.ravel())\n",
        "y_pred1 = rf.predict(x_test1)"
      ],
      "execution_count": null,
      "outputs": []
    },
    {
      "cell_type": "markdown",
      "metadata": {
        "id": "qsv2FlBkaKf9"
      },
      "source": [
        "Tuned model accuracy"
      ]
    },
    {
      "cell_type": "code",
      "metadata": {
        "id": "2SfkgcdXaKf-"
      },
      "source": [
        "#reshaping y_pred1 \n",
        "\n",
        "y_pred1=y_pred1.reshape(-1,1)"
      ],
      "execution_count": null,
      "outputs": []
    },
    {
      "cell_type": "code",
      "metadata": {
        "id": "f1KL0SsIaKf-",
        "outputId": "b3337ee5-f4d5-421b-a07a-7c83ae4585a2"
      },
      "source": [
        "invscaled_y = scaler_y.inverse_transform(y_pred1)\n",
        "invscaled_yt = scaler_y.inverse_transform(y_test1)\n",
        "\n",
        "rmse(invscaled_y,invscaled_yt)"
      ],
      "execution_count": null,
      "outputs": [
        {
          "output_type": "execute_result",
          "data": {
            "text/plain": [
              "598.212357324211"
            ]
          },
          "metadata": {
            "tags": []
          },
          "execution_count": 101
        }
      ]
    },
    {
      "cell_type": "markdown",
      "metadata": {
        "id": "F7CvnwRnaKf_"
      },
      "source": [
        "# SVM"
      ]
    },
    {
      "cell_type": "code",
      "metadata": {
        "id": "LjATD9RPaKf_",
        "outputId": "1c27e777-b49d-4e9a-b9fd-599818aacbf3"
      },
      "source": [
        "#split the data into training and test\n",
        "from sklearn.model_selection import train_test_split\n",
        "x_train,x_test,y_train,y_test=train_test_split(sx,scaled_y,test_size=0.3)\n",
        "print(x_train.shape,y_train.shape)\n"
      ],
      "execution_count": null,
      "outputs": [
        {
          "output_type": "stream",
          "text": [
            "(1050, 20) (1050, 1)\n"
          ],
          "name": "stdout"
        }
      ]
    },
    {
      "cell_type": "code",
      "metadata": {
        "id": "fjefMn34aKf_"
      },
      "source": [
        "from sklearn.svm import SVR\n",
        "regressor = SVR()\n",
        "model=regressor.fit(x_train,y_train.ravel())\n",
        "y_pred = regressor.predict(x_test)"
      ],
      "execution_count": null,
      "outputs": []
    },
    {
      "cell_type": "code",
      "metadata": {
        "id": "V75yD3s7aKgA"
      },
      "source": [
        "#reshaping y_pred to the required shape\n",
        "y_pred=y_pred.reshape(-1,1)"
      ],
      "execution_count": null,
      "outputs": []
    },
    {
      "cell_type": "markdown",
      "metadata": {
        "id": "tP_pd2TmaKgA"
      },
      "source": [
        "Model Evaluation\n"
      ]
    },
    {
      "cell_type": "code",
      "metadata": {
        "id": "YohpchFBaKgB",
        "outputId": "a2318cb7-2e7f-4d42-90f7-fda7e58a4b94"
      },
      "source": [
        "print(\"\\nMSE:\",mean_squared_error(y_test, y_pred)) #\n",
        "\n",
        "print(\"\\nRMSE:\",rmse(y_test, y_pred))#\n",
        "\n",
        "metrics.r2_score(y_test, y_pred) #"
      ],
      "execution_count": null,
      "outputs": [
        {
          "output_type": "stream",
          "text": [
            "\n",
            "MSE: 0.010936835354544943\n",
            "\n",
            "RMSE: 0.10457932565543221\n"
          ],
          "name": "stdout"
        },
        {
          "output_type": "execute_result",
          "data": {
            "text/plain": [
              "0.8616717888481777"
            ]
          },
          "metadata": {
            "tags": []
          },
          "execution_count": 157
        }
      ]
    },
    {
      "cell_type": "code",
      "metadata": {
        "id": "aEmuZX8PaKgB"
      },
      "source": [
        "# Denormalizing the values using inverse_transform()\n",
        "invscaled_y = scaler_y.inverse_transform(y_pred)\n",
        "invscaled_yt = scaler_y.inverse_transform(y_test)"
      ],
      "execution_count": null,
      "outputs": []
    },
    {
      "cell_type": "code",
      "metadata": {
        "scrolled": true,
        "id": "lMEXicd2aKgC",
        "outputId": "3537c75f-ca80-4a91-ce92-7e9a38da0b8f"
      },
      "source": [
        "rmse(invscaled_y,invscaled_yt)"
      ],
      "execution_count": null,
      "outputs": [
        {
          "output_type": "execute_result",
          "data": {
            "text/plain": [
              "414.1351753887681"
            ]
          },
          "metadata": {
            "tags": []
          },
          "execution_count": 159
        }
      ]
    },
    {
      "cell_type": "markdown",
      "metadata": {
        "id": "gSxzIfJ9aKgC"
      },
      "source": [
        "Hyperparameter tuning using GridSearchCV"
      ]
    },
    {
      "cell_type": "code",
      "metadata": {
        "scrolled": true,
        "id": "GlgBwFiraKgD",
        "outputId": "253ef774-5305-4ec2-cdc7-4422c7200950"
      },
      "source": [
        "from sklearn.model_selection import GridSearchCV\n",
        "\n",
        "# Tuning of parameters for regression by cross-validation\n",
        "K = 5               # Number of cross valiations\n",
        "\n",
        "# Parameters for tuning\n",
        "parameters = [{'kernel': ['rbf'], 'gamma': [1e-4, 1e-3, 0.01, 0.1, 0.2, 0.5, 0.6, 0.9],'C': [1, 10, 100, 1000, 10000], 'epsilon':[0.01,0.02,0.03,0.04,0.005]}]\n",
        "\n",
        "print(\"Tuning hyper-parameters\")\n",
        "svr = GridSearchCV(SVR(), parameters, cv = K)\n",
        "svr.fit(x_train, y_train.ravel())\n",
        "\n",
        "# Checking the score for all parameters\n",
        "print(\"Grid scores on training set:\")\n",
        "svr.best_params_"
      ],
      "execution_count": null,
      "outputs": [
        {
          "output_type": "stream",
          "text": [
            "Tuning hyper-parameters\n",
            "Grid scores on training set:\n"
          ],
          "name": "stdout"
        },
        {
          "output_type": "execute_result",
          "data": {
            "text/plain": [
              "{'C': 10, 'epsilon': 0.04, 'gamma': 0.1, 'kernel': 'rbf'}"
            ]
          },
          "metadata": {
            "tags": []
          },
          "execution_count": 161
        }
      ]
    },
    {
      "cell_type": "markdown",
      "metadata": {
        "id": "7WajvlUcaKgD"
      },
      "source": [
        "Fitting the model with tuned parameters "
      ]
    },
    {
      "cell_type": "code",
      "metadata": {
        "id": "bEGqoM0iaKgE"
      },
      "source": [
        "regressor = SVR(C= 10,epsilon=0.03,gamma=0.1,kernel= 'rbf')\n",
        "regressor.fit(x_train,y_train.ravel())\n",
        "y_pred = regressor.predict(x_test)"
      ],
      "execution_count": null,
      "outputs": []
    },
    {
      "cell_type": "markdown",
      "metadata": {
        "id": "rbkiUb8eaKgE"
      },
      "source": [
        "Tuned model accuracy"
      ]
    },
    {
      "cell_type": "code",
      "metadata": {
        "id": "HhRYcCxIaKgF"
      },
      "source": [
        "#reshaping y_pred to the required shape\n",
        "y_pred=y_pred.reshape(-1,1)"
      ],
      "execution_count": null,
      "outputs": []
    },
    {
      "cell_type": "code",
      "metadata": {
        "id": "JBa-gQHzaKgF",
        "outputId": "83c471a3-b00b-4750-f51a-d1a942d7e5c4"
      },
      "source": [
        "invscaled_y = scaler_y.inverse_transform(y_pred)\n",
        "invscaled_yt = scaler_y.inverse_transform(y_test)\n",
        "rmse(invscaled_y,invscaled_yt)"
      ],
      "execution_count": null,
      "outputs": [
        {
          "output_type": "execute_result",
          "data": {
            "text/plain": [
              "382.37171985933514"
            ]
          },
          "metadata": {
            "tags": []
          },
          "execution_count": 164
        }
      ]
    },
    {
      "cell_type": "markdown",
      "metadata": {
        "id": "3hbUDYPmaKgG"
      },
      "source": [
        "# Predicting the test file using SVM"
      ]
    },
    {
      "cell_type": "code",
      "metadata": {
        "id": "XNdL2WqmaKgG"
      },
      "source": [
        "Test=pd.read_csv(\"C:\\\\Users\\\\Siri\\\\Desktop\\\\CE802\\\\Assignment\\\\CE802_P3_Data\\\\CE802_P3_Test.csv\")\n"
      ],
      "execution_count": null,
      "outputs": []
    },
    {
      "cell_type": "code",
      "metadata": {
        "id": "Bej9kkOfaKgH"
      },
      "source": [
        "Test_original=Test.copy()"
      ],
      "execution_count": null,
      "outputs": []
    },
    {
      "cell_type": "code",
      "metadata": {
        "id": "UGV7K11FaKgH",
        "outputId": "6e6271bd-8b54-49bc-ae0e-303ab0b28997"
      },
      "source": [
        "Test_original"
      ],
      "execution_count": null,
      "outputs": [
        {
          "output_type": "execute_result",
          "data": {
            "text/html": [
              "<div>\n",
              "<style scoped>\n",
              "    .dataframe tbody tr th:only-of-type {\n",
              "        vertical-align: middle;\n",
              "    }\n",
              "\n",
              "    .dataframe tbody tr th {\n",
              "        vertical-align: top;\n",
              "    }\n",
              "\n",
              "    .dataframe thead th {\n",
              "        text-align: right;\n",
              "    }\n",
              "</style>\n",
              "<table border=\"1\" class=\"dataframe\">\n",
              "  <thead>\n",
              "    <tr style=\"text-align: right;\">\n",
              "      <th></th>\n",
              "      <th>F1</th>\n",
              "      <th>F2</th>\n",
              "      <th>F3</th>\n",
              "      <th>F4</th>\n",
              "      <th>F5</th>\n",
              "      <th>F6</th>\n",
              "      <th>F7</th>\n",
              "      <th>F8</th>\n",
              "      <th>F9</th>\n",
              "      <th>F10</th>\n",
              "      <th>F11</th>\n",
              "      <th>F12</th>\n",
              "      <th>F13</th>\n",
              "      <th>F14</th>\n",
              "      <th>F15</th>\n",
              "      <th>F16</th>\n",
              "      <th>Target</th>\n",
              "    </tr>\n",
              "  </thead>\n",
              "  <tbody>\n",
              "    <tr>\n",
              "      <th>0</th>\n",
              "      <td>596.16</td>\n",
              "      <td>Rest</td>\n",
              "      <td>72.24</td>\n",
              "      <td>6.00</td>\n",
              "      <td>154.48</td>\n",
              "      <td>184.18</td>\n",
              "      <td>226.65</td>\n",
              "      <td>-8.21</td>\n",
              "      <td>18.46</td>\n",
              "      <td>10</td>\n",
              "      <td>6547.48</td>\n",
              "      <td>Very high</td>\n",
              "      <td>9.24</td>\n",
              "      <td>0.69</td>\n",
              "      <td>3</td>\n",
              "      <td>45.06</td>\n",
              "      <td>NaN</td>\n",
              "    </tr>\n",
              "    <tr>\n",
              "      <th>1</th>\n",
              "      <td>1851.57</td>\n",
              "      <td>Europe</td>\n",
              "      <td>63.09</td>\n",
              "      <td>10.47</td>\n",
              "      <td>200.93</td>\n",
              "      <td>183.48</td>\n",
              "      <td>1101.51</td>\n",
              "      <td>-7.91</td>\n",
              "      <td>3.76</td>\n",
              "      <td>4</td>\n",
              "      <td>-983.62</td>\n",
              "      <td>Medium</td>\n",
              "      <td>8.20</td>\n",
              "      <td>17.90</td>\n",
              "      <td>5</td>\n",
              "      <td>88.64</td>\n",
              "      <td>NaN</td>\n",
              "    </tr>\n",
              "    <tr>\n",
              "      <th>2</th>\n",
              "      <td>-945.60</td>\n",
              "      <td>USA</td>\n",
              "      <td>71.22</td>\n",
              "      <td>8.25</td>\n",
              "      <td>190.35</td>\n",
              "      <td>243.96</td>\n",
              "      <td>924.93</td>\n",
              "      <td>-6.35</td>\n",
              "      <td>2.48</td>\n",
              "      <td>6</td>\n",
              "      <td>-2366.10</td>\n",
              "      <td>Very high</td>\n",
              "      <td>11.10</td>\n",
              "      <td>329.72</td>\n",
              "      <td>2</td>\n",
              "      <td>-41.36</td>\n",
              "      <td>NaN</td>\n",
              "    </tr>\n",
              "    <tr>\n",
              "      <th>3</th>\n",
              "      <td>1153.38</td>\n",
              "      <td>Europe</td>\n",
              "      <td>62.52</td>\n",
              "      <td>7.41</td>\n",
              "      <td>165.21</td>\n",
              "      <td>245.64</td>\n",
              "      <td>1017.09</td>\n",
              "      <td>-5.84</td>\n",
              "      <td>6.58</td>\n",
              "      <td>14</td>\n",
              "      <td>-503.06</td>\n",
              "      <td>High</td>\n",
              "      <td>7.53</td>\n",
              "      <td>0.00</td>\n",
              "      <td>2</td>\n",
              "      <td>-91.60</td>\n",
              "      <td>NaN</td>\n",
              "    </tr>\n",
              "    <tr>\n",
              "      <th>4</th>\n",
              "      <td>-261.63</td>\n",
              "      <td>UK</td>\n",
              "      <td>60.87</td>\n",
              "      <td>10.14</td>\n",
              "      <td>201.96</td>\n",
              "      <td>216.28</td>\n",
              "      <td>1350.96</td>\n",
              "      <td>-2.75</td>\n",
              "      <td>4.02</td>\n",
              "      <td>6</td>\n",
              "      <td>19521.62</td>\n",
              "      <td>High</td>\n",
              "      <td>8.99</td>\n",
              "      <td>360.26</td>\n",
              "      <td>4</td>\n",
              "      <td>154.32</td>\n",
              "      <td>NaN</td>\n",
              "    </tr>\n",
              "    <tr>\n",
              "      <th>...</th>\n",
              "      <td>...</td>\n",
              "      <td>...</td>\n",
              "      <td>...</td>\n",
              "      <td>...</td>\n",
              "      <td>...</td>\n",
              "      <td>...</td>\n",
              "      <td>...</td>\n",
              "      <td>...</td>\n",
              "      <td>...</td>\n",
              "      <td>...</td>\n",
              "      <td>...</td>\n",
              "      <td>...</td>\n",
              "      <td>...</td>\n",
              "      <td>...</td>\n",
              "      <td>...</td>\n",
              "      <td>...</td>\n",
              "      <td>...</td>\n",
              "    </tr>\n",
              "    <tr>\n",
              "      <th>1495</th>\n",
              "      <td>1841.31</td>\n",
              "      <td>UK</td>\n",
              "      <td>59.22</td>\n",
              "      <td>19.53</td>\n",
              "      <td>166.61</td>\n",
              "      <td>210.24</td>\n",
              "      <td>1090.50</td>\n",
              "      <td>-5.94</td>\n",
              "      <td>11.46</td>\n",
              "      <td>12</td>\n",
              "      <td>4755.62</td>\n",
              "      <td>Very low</td>\n",
              "      <td>13.37</td>\n",
              "      <td>234.82</td>\n",
              "      <td>5</td>\n",
              "      <td>4.60</td>\n",
              "      <td>NaN</td>\n",
              "    </tr>\n",
              "    <tr>\n",
              "      <th>1496</th>\n",
              "      <td>746.73</td>\n",
              "      <td>UK</td>\n",
              "      <td>55.53</td>\n",
              "      <td>4.05</td>\n",
              "      <td>162.15</td>\n",
              "      <td>206.50</td>\n",
              "      <td>1159.14</td>\n",
              "      <td>-3.38</td>\n",
              "      <td>21.24</td>\n",
              "      <td>6</td>\n",
              "      <td>10932.52</td>\n",
              "      <td>Low</td>\n",
              "      <td>14.21</td>\n",
              "      <td>17.04</td>\n",
              "      <td>3</td>\n",
              "      <td>157.08</td>\n",
              "      <td>NaN</td>\n",
              "    </tr>\n",
              "    <tr>\n",
              "      <th>1497</th>\n",
              "      <td>1059.75</td>\n",
              "      <td>Rest</td>\n",
              "      <td>62.85</td>\n",
              "      <td>7.08</td>\n",
              "      <td>161.39</td>\n",
              "      <td>309.70</td>\n",
              "      <td>476.43</td>\n",
              "      <td>-2.17</td>\n",
              "      <td>11.80</td>\n",
              "      <td>6</td>\n",
              "      <td>13297.52</td>\n",
              "      <td>High</td>\n",
              "      <td>13.17</td>\n",
              "      <td>149.51</td>\n",
              "      <td>2</td>\n",
              "      <td>-76.30</td>\n",
              "      <td>NaN</td>\n",
              "    </tr>\n",
              "    <tr>\n",
              "      <th>1498</th>\n",
              "      <td>279.90</td>\n",
              "      <td>Europe</td>\n",
              "      <td>76.68</td>\n",
              "      <td>2.01</td>\n",
              "      <td>194.31</td>\n",
              "      <td>186.62</td>\n",
              "      <td>1491.96</td>\n",
              "      <td>-6.27</td>\n",
              "      <td>16.00</td>\n",
              "      <td>10</td>\n",
              "      <td>685.12</td>\n",
              "      <td>High</td>\n",
              "      <td>10.17</td>\n",
              "      <td>4.69</td>\n",
              "      <td>3</td>\n",
              "      <td>-69.40</td>\n",
              "      <td>NaN</td>\n",
              "    </tr>\n",
              "    <tr>\n",
              "      <th>1499</th>\n",
              "      <td>777.78</td>\n",
              "      <td>UK</td>\n",
              "      <td>62.97</td>\n",
              "      <td>7.20</td>\n",
              "      <td>146.96</td>\n",
              "      <td>150.14</td>\n",
              "      <td>3328.08</td>\n",
              "      <td>0.29</td>\n",
              "      <td>1.56</td>\n",
              "      <td>8</td>\n",
              "      <td>7854.34</td>\n",
              "      <td>Very low</td>\n",
              "      <td>11.45</td>\n",
              "      <td>4.28</td>\n",
              "      <td>3</td>\n",
              "      <td>54.26</td>\n",
              "      <td>NaN</td>\n",
              "    </tr>\n",
              "  </tbody>\n",
              "</table>\n",
              "<p>1500 rows × 17 columns</p>\n",
              "</div>"
            ],
            "text/plain": [
              "           F1      F2     F3     F4      F5      F6       F7    F8     F9  \\\n",
              "0      596.16    Rest  72.24   6.00  154.48  184.18   226.65 -8.21  18.46   \n",
              "1     1851.57  Europe  63.09  10.47  200.93  183.48  1101.51 -7.91   3.76   \n",
              "2     -945.60     USA  71.22   8.25  190.35  243.96   924.93 -6.35   2.48   \n",
              "3     1153.38  Europe  62.52   7.41  165.21  245.64  1017.09 -5.84   6.58   \n",
              "4     -261.63      UK  60.87  10.14  201.96  216.28  1350.96 -2.75   4.02   \n",
              "...       ...     ...    ...    ...     ...     ...      ...   ...    ...   \n",
              "1495  1841.31      UK  59.22  19.53  166.61  210.24  1090.50 -5.94  11.46   \n",
              "1496   746.73      UK  55.53   4.05  162.15  206.50  1159.14 -3.38  21.24   \n",
              "1497  1059.75    Rest  62.85   7.08  161.39  309.70   476.43 -2.17  11.80   \n",
              "1498   279.90  Europe  76.68   2.01  194.31  186.62  1491.96 -6.27  16.00   \n",
              "1499   777.78      UK  62.97   7.20  146.96  150.14  3328.08  0.29   1.56   \n",
              "\n",
              "      F10       F11        F12    F13     F14  F15     F16  Target  \n",
              "0      10   6547.48  Very high   9.24    0.69    3   45.06     NaN  \n",
              "1       4   -983.62     Medium   8.20   17.90    5   88.64     NaN  \n",
              "2       6  -2366.10  Very high  11.10  329.72    2  -41.36     NaN  \n",
              "3      14   -503.06       High   7.53    0.00    2  -91.60     NaN  \n",
              "4       6  19521.62       High   8.99  360.26    4  154.32     NaN  \n",
              "...   ...       ...        ...    ...     ...  ...     ...     ...  \n",
              "1495   12   4755.62   Very low  13.37  234.82    5    4.60     NaN  \n",
              "1496    6  10932.52        Low  14.21   17.04    3  157.08     NaN  \n",
              "1497    6  13297.52       High  13.17  149.51    2  -76.30     NaN  \n",
              "1498   10    685.12       High  10.17    4.69    3  -69.40     NaN  \n",
              "1499    8   7854.34   Very low  11.45    4.28    3   54.26     NaN  \n",
              "\n",
              "[1500 rows x 17 columns]"
            ]
          },
          "metadata": {
            "tags": []
          },
          "execution_count": 79
        }
      ]
    },
    {
      "cell_type": "code",
      "metadata": {
        "scrolled": true,
        "id": "X8GvFqXsaKgH",
        "outputId": "7cc28fb4-e346-4291-cd5e-226d13c03369"
      },
      "source": [
        "Test.isnull().sum()"
      ],
      "execution_count": null,
      "outputs": [
        {
          "output_type": "execute_result",
          "data": {
            "text/plain": [
              "F1           0\n",
              "F2           0\n",
              "F3           0\n",
              "F4           0\n",
              "F5           0\n",
              "F6           0\n",
              "F7           0\n",
              "F8           0\n",
              "F9           0\n",
              "F10          0\n",
              "F11          0\n",
              "F12          0\n",
              "F13          0\n",
              "F14          0\n",
              "F15          0\n",
              "F16          0\n",
              "Target    1500\n",
              "dtype: int64"
            ]
          },
          "metadata": {
            "tags": []
          },
          "execution_count": 80
        }
      ]
    },
    {
      "cell_type": "code",
      "metadata": {
        "id": "CFWsoZ2GaKgI"
      },
      "source": [
        "dummy1=pd.get_dummies(Test['F2'])\n",
        "dummy2=pd.get_dummies(Test['F12'])\n",
        "Tmaster=pd.concat([Test,dummy1,dummy2],axis=1)\n",
        "Tmaster=Tmaster.drop(['F2','F12','Europe','F8','Medium'],axis=1)\n",
        "\n",
        "x=Tmaster.drop(['Target'],axis=1)\n",
        "#y=Tmaster.drop(['F1', 'F3', 'F4', 'F5', 'F7','F6', 'F9', 'F10', 'F11', 'F13', 'F14','F15', 'F16','Rest', 'UK', 'USA', 'High', 'Low', 'Very high','Very low'],axis=1)\n",
        "from sklearn.preprocessing import MinMaxScaler\n",
        "scaler_x = MinMaxScaler()\n",
        "\n",
        "# transform data\n",
        "scaled_x = scaler_x.fit_transform(x)\n",
        "sx=pd.DataFrame(scaled_x)\n",
        "#scaled_y = scaler_y.fit_transform(pd.DataFrame(y))\n"
      ],
      "execution_count": null,
      "outputs": []
    },
    {
      "cell_type": "code",
      "metadata": {
        "id": "yKNcQKN4aKgI",
        "outputId": "24df8775-84ff-428e-ced0-5da9a3a9a2d4"
      },
      "source": [
        "sx"
      ],
      "execution_count": null,
      "outputs": [
        {
          "output_type": "execute_result",
          "data": {
            "text/html": [
              "<div>\n",
              "<style scoped>\n",
              "    .dataframe tbody tr th:only-of-type {\n",
              "        vertical-align: middle;\n",
              "    }\n",
              "\n",
              "    .dataframe tbody tr th {\n",
              "        vertical-align: top;\n",
              "    }\n",
              "\n",
              "    .dataframe thead th {\n",
              "        text-align: right;\n",
              "    }\n",
              "</style>\n",
              "<table border=\"1\" class=\"dataframe\">\n",
              "  <thead>\n",
              "    <tr style=\"text-align: right;\">\n",
              "      <th></th>\n",
              "      <th>0</th>\n",
              "      <th>1</th>\n",
              "      <th>2</th>\n",
              "      <th>3</th>\n",
              "      <th>4</th>\n",
              "      <th>5</th>\n",
              "      <th>6</th>\n",
              "      <th>7</th>\n",
              "      <th>8</th>\n",
              "      <th>9</th>\n",
              "      <th>10</th>\n",
              "      <th>11</th>\n",
              "      <th>12</th>\n",
              "      <th>13</th>\n",
              "      <th>14</th>\n",
              "      <th>15</th>\n",
              "      <th>16</th>\n",
              "      <th>17</th>\n",
              "      <th>18</th>\n",
              "      <th>19</th>\n",
              "    </tr>\n",
              "  </thead>\n",
              "  <tbody>\n",
              "    <tr>\n",
              "      <th>0</th>\n",
              "      <td>0.442503</td>\n",
              "      <td>0.604512</td>\n",
              "      <td>0.109131</td>\n",
              "      <td>0.451459</td>\n",
              "      <td>0.340717</td>\n",
              "      <td>0.321907</td>\n",
              "      <td>0.521689</td>\n",
              "      <td>0.5</td>\n",
              "      <td>0.533826</td>\n",
              "      <td>0.410270</td>\n",
              "      <td>0.000019</td>\n",
              "      <td>0.272727</td>\n",
              "      <td>0.566814</td>\n",
              "      <td>1.0</td>\n",
              "      <td>0.0</td>\n",
              "      <td>0.0</td>\n",
              "      <td>0.0</td>\n",
              "      <td>0.0</td>\n",
              "      <td>1.0</td>\n",
              "      <td>0.0</td>\n",
              "    </tr>\n",
              "    <tr>\n",
              "      <th>1</th>\n",
              "      <td>0.634943</td>\n",
              "      <td>0.541391</td>\n",
              "      <td>0.192094</td>\n",
              "      <td>0.567832</td>\n",
              "      <td>0.338821</td>\n",
              "      <td>0.465492</td>\n",
              "      <td>0.102169</td>\n",
              "      <td>0.2</td>\n",
              "      <td>0.449790</td>\n",
              "      <td>0.354054</td>\n",
              "      <td>0.000494</td>\n",
              "      <td>0.454545</td>\n",
              "      <td>0.670621</td>\n",
              "      <td>0.0</td>\n",
              "      <td>0.0</td>\n",
              "      <td>0.0</td>\n",
              "      <td>0.0</td>\n",
              "      <td>0.0</td>\n",
              "      <td>0.0</td>\n",
              "      <td>0.0</td>\n",
              "    </tr>\n",
              "    <tr>\n",
              "      <th>2</th>\n",
              "      <td>0.206168</td>\n",
              "      <td>0.597475</td>\n",
              "      <td>0.150891</td>\n",
              "      <td>0.541325</td>\n",
              "      <td>0.502600</td>\n",
              "      <td>0.436511</td>\n",
              "      <td>0.065639</td>\n",
              "      <td>0.3</td>\n",
              "      <td>0.434363</td>\n",
              "      <td>0.510811</td>\n",
              "      <td>0.009100</td>\n",
              "      <td>0.181818</td>\n",
              "      <td>0.360964</td>\n",
              "      <td>0.0</td>\n",
              "      <td>0.0</td>\n",
              "      <td>1.0</td>\n",
              "      <td>0.0</td>\n",
              "      <td>0.0</td>\n",
              "      <td>1.0</td>\n",
              "      <td>0.0</td>\n",
              "    </tr>\n",
              "    <tr>\n",
              "      <th>3</th>\n",
              "      <td>0.527919</td>\n",
              "      <td>0.537459</td>\n",
              "      <td>0.135301</td>\n",
              "      <td>0.478341</td>\n",
              "      <td>0.507149</td>\n",
              "      <td>0.451637</td>\n",
              "      <td>0.182648</td>\n",
              "      <td>0.7</td>\n",
              "      <td>0.455152</td>\n",
              "      <td>0.317838</td>\n",
              "      <td>0.000000</td>\n",
              "      <td>0.181818</td>\n",
              "      <td>0.241294</td>\n",
              "      <td>0.0</td>\n",
              "      <td>0.0</td>\n",
              "      <td>0.0</td>\n",
              "      <td>1.0</td>\n",
              "      <td>0.0</td>\n",
              "      <td>0.0</td>\n",
              "      <td>0.0</td>\n",
              "    </tr>\n",
              "    <tr>\n",
              "      <th>4</th>\n",
              "      <td>0.311013</td>\n",
              "      <td>0.526076</td>\n",
              "      <td>0.185969</td>\n",
              "      <td>0.570412</td>\n",
              "      <td>0.427643</td>\n",
              "      <td>0.506433</td>\n",
              "      <td>0.109589</td>\n",
              "      <td>0.3</td>\n",
              "      <td>0.678600</td>\n",
              "      <td>0.396757</td>\n",
              "      <td>0.009943</td>\n",
              "      <td>0.363636</td>\n",
              "      <td>0.827069</td>\n",
              "      <td>0.0</td>\n",
              "      <td>1.0</td>\n",
              "      <td>0.0</td>\n",
              "      <td>1.0</td>\n",
              "      <td>0.0</td>\n",
              "      <td>0.0</td>\n",
              "      <td>0.0</td>\n",
              "    </tr>\n",
              "    <tr>\n",
              "      <th>...</th>\n",
              "      <td>...</td>\n",
              "      <td>...</td>\n",
              "      <td>...</td>\n",
              "      <td>...</td>\n",
              "      <td>...</td>\n",
              "      <td>...</td>\n",
              "      <td>...</td>\n",
              "      <td>...</td>\n",
              "      <td>...</td>\n",
              "      <td>...</td>\n",
              "      <td>...</td>\n",
              "      <td>...</td>\n",
              "      <td>...</td>\n",
              "      <td>...</td>\n",
              "      <td>...</td>\n",
              "      <td>...</td>\n",
              "      <td>...</td>\n",
              "      <td>...</td>\n",
              "      <td>...</td>\n",
              "      <td>...</td>\n",
              "    </tr>\n",
              "    <tr>\n",
              "      <th>1495</th>\n",
              "      <td>0.633371</td>\n",
              "      <td>0.514694</td>\n",
              "      <td>0.360245</td>\n",
              "      <td>0.481849</td>\n",
              "      <td>0.411287</td>\n",
              "      <td>0.463685</td>\n",
              "      <td>0.321918</td>\n",
              "      <td>0.6</td>\n",
              "      <td>0.513832</td>\n",
              "      <td>0.633514</td>\n",
              "      <td>0.006481</td>\n",
              "      <td>0.454545</td>\n",
              "      <td>0.470440</td>\n",
              "      <td>0.0</td>\n",
              "      <td>1.0</td>\n",
              "      <td>0.0</td>\n",
              "      <td>0.0</td>\n",
              "      <td>0.0</td>\n",
              "      <td>0.0</td>\n",
              "      <td>1.0</td>\n",
              "    </tr>\n",
              "    <tr>\n",
              "      <th>1496</th>\n",
              "      <td>0.465584</td>\n",
              "      <td>0.489238</td>\n",
              "      <td>0.072940</td>\n",
              "      <td>0.470675</td>\n",
              "      <td>0.401159</td>\n",
              "      <td>0.474951</td>\n",
              "      <td>0.601027</td>\n",
              "      <td>0.3</td>\n",
              "      <td>0.582757</td>\n",
              "      <td>0.678919</td>\n",
              "      <td>0.000470</td>\n",
              "      <td>0.272727</td>\n",
              "      <td>0.833643</td>\n",
              "      <td>0.0</td>\n",
              "      <td>1.0</td>\n",
              "      <td>0.0</td>\n",
              "      <td>0.0</td>\n",
              "      <td>1.0</td>\n",
              "      <td>0.0</td>\n",
              "      <td>0.0</td>\n",
              "    </tr>\n",
              "    <tr>\n",
              "      <th>1497</th>\n",
              "      <td>0.513566</td>\n",
              "      <td>0.539735</td>\n",
              "      <td>0.129176</td>\n",
              "      <td>0.468771</td>\n",
              "      <td>0.680622</td>\n",
              "      <td>0.362902</td>\n",
              "      <td>0.331621</td>\n",
              "      <td>0.3</td>\n",
              "      <td>0.609147</td>\n",
              "      <td>0.622703</td>\n",
              "      <td>0.004126</td>\n",
              "      <td>0.181818</td>\n",
              "      <td>0.277738</td>\n",
              "      <td>1.0</td>\n",
              "      <td>0.0</td>\n",
              "      <td>0.0</td>\n",
              "      <td>1.0</td>\n",
              "      <td>0.0</td>\n",
              "      <td>0.0</td>\n",
              "      <td>0.0</td>\n",
              "    </tr>\n",
              "    <tr>\n",
              "      <th>1498</th>\n",
              "      <td>0.394024</td>\n",
              "      <td>0.635141</td>\n",
              "      <td>0.035078</td>\n",
              "      <td>0.551246</td>\n",
              "      <td>0.347325</td>\n",
              "      <td>0.529574</td>\n",
              "      <td>0.451484</td>\n",
              "      <td>0.5</td>\n",
              "      <td>0.468411</td>\n",
              "      <td>0.460541</td>\n",
              "      <td>0.000129</td>\n",
              "      <td>0.272727</td>\n",
              "      <td>0.294174</td>\n",
              "      <td>0.0</td>\n",
              "      <td>0.0</td>\n",
              "      <td>0.0</td>\n",
              "      <td>1.0</td>\n",
              "      <td>0.0</td>\n",
              "      <td>0.0</td>\n",
              "      <td>0.0</td>\n",
              "    </tr>\n",
              "    <tr>\n",
              "      <th>1499</th>\n",
              "      <td>0.470343</td>\n",
              "      <td>0.540563</td>\n",
              "      <td>0.131403</td>\n",
              "      <td>0.432619</td>\n",
              "      <td>0.248538</td>\n",
              "      <td>0.830925</td>\n",
              "      <td>0.039384</td>\n",
              "      <td>0.4</td>\n",
              "      <td>0.548409</td>\n",
              "      <td>0.529730</td>\n",
              "      <td>0.000118</td>\n",
              "      <td>0.272727</td>\n",
              "      <td>0.588729</td>\n",
              "      <td>0.0</td>\n",
              "      <td>1.0</td>\n",
              "      <td>0.0</td>\n",
              "      <td>0.0</td>\n",
              "      <td>0.0</td>\n",
              "      <td>0.0</td>\n",
              "      <td>1.0</td>\n",
              "    </tr>\n",
              "  </tbody>\n",
              "</table>\n",
              "<p>1500 rows × 20 columns</p>\n",
              "</div>"
            ],
            "text/plain": [
              "             0         1         2         3         4         5         6  \\\n",
              "0     0.442503  0.604512  0.109131  0.451459  0.340717  0.321907  0.521689   \n",
              "1     0.634943  0.541391  0.192094  0.567832  0.338821  0.465492  0.102169   \n",
              "2     0.206168  0.597475  0.150891  0.541325  0.502600  0.436511  0.065639   \n",
              "3     0.527919  0.537459  0.135301  0.478341  0.507149  0.451637  0.182648   \n",
              "4     0.311013  0.526076  0.185969  0.570412  0.427643  0.506433  0.109589   \n",
              "...        ...       ...       ...       ...       ...       ...       ...   \n",
              "1495  0.633371  0.514694  0.360245  0.481849  0.411287  0.463685  0.321918   \n",
              "1496  0.465584  0.489238  0.072940  0.470675  0.401159  0.474951  0.601027   \n",
              "1497  0.513566  0.539735  0.129176  0.468771  0.680622  0.362902  0.331621   \n",
              "1498  0.394024  0.635141  0.035078  0.551246  0.347325  0.529574  0.451484   \n",
              "1499  0.470343  0.540563  0.131403  0.432619  0.248538  0.830925  0.039384   \n",
              "\n",
              "        7         8         9        10        11        12   13   14   15  \\\n",
              "0     0.5  0.533826  0.410270  0.000019  0.272727  0.566814  1.0  0.0  0.0   \n",
              "1     0.2  0.449790  0.354054  0.000494  0.454545  0.670621  0.0  0.0  0.0   \n",
              "2     0.3  0.434363  0.510811  0.009100  0.181818  0.360964  0.0  0.0  1.0   \n",
              "3     0.7  0.455152  0.317838  0.000000  0.181818  0.241294  0.0  0.0  0.0   \n",
              "4     0.3  0.678600  0.396757  0.009943  0.363636  0.827069  0.0  1.0  0.0   \n",
              "...   ...       ...       ...       ...       ...       ...  ...  ...  ...   \n",
              "1495  0.6  0.513832  0.633514  0.006481  0.454545  0.470440  0.0  1.0  0.0   \n",
              "1496  0.3  0.582757  0.678919  0.000470  0.272727  0.833643  0.0  1.0  0.0   \n",
              "1497  0.3  0.609147  0.622703  0.004126  0.181818  0.277738  1.0  0.0  0.0   \n",
              "1498  0.5  0.468411  0.460541  0.000129  0.272727  0.294174  0.0  0.0  0.0   \n",
              "1499  0.4  0.548409  0.529730  0.000118  0.272727  0.588729  0.0  1.0  0.0   \n",
              "\n",
              "       16   17   18   19  \n",
              "0     0.0  0.0  1.0  0.0  \n",
              "1     0.0  0.0  0.0  0.0  \n",
              "2     0.0  0.0  1.0  0.0  \n",
              "3     1.0  0.0  0.0  0.0  \n",
              "4     1.0  0.0  0.0  0.0  \n",
              "...   ...  ...  ...  ...  \n",
              "1495  0.0  0.0  0.0  1.0  \n",
              "1496  0.0  1.0  0.0  0.0  \n",
              "1497  1.0  0.0  0.0  0.0  \n",
              "1498  1.0  0.0  0.0  0.0  \n",
              "1499  0.0  0.0  0.0  1.0  \n",
              "\n",
              "[1500 rows x 20 columns]"
            ]
          },
          "metadata": {
            "tags": []
          },
          "execution_count": 82
        }
      ]
    },
    {
      "cell_type": "code",
      "metadata": {
        "id": "KKr4nH7TaKgJ"
      },
      "source": [
        "#predicting test data using SVM regressor \n",
        "y_pred_Test = regressor.predict(sx)\n",
        "y_pred_Test=y_pred_Test.reshape(-1,1)\n",
        "invscaled_Test = scaler_y.inverse_transform(y_pred_Test)\n"
      ],
      "execution_count": null,
      "outputs": []
    },
    {
      "cell_type": "code",
      "metadata": {
        "id": "R3PQQgpbaKgJ",
        "outputId": "2e5eaa60-b5c7-4ce8-9ce4-83f47e0a4ddf"
      },
      "source": [
        "print(invscaled_Test)"
      ],
      "execution_count": null,
      "outputs": [
        {
          "output_type": "stream",
          "text": [
            "[[ 811.86567374]\n",
            " [ 466.72237468]\n",
            " [2357.6523504 ]\n",
            " ...\n",
            " [ 817.8208376 ]\n",
            " [2818.05002005]\n",
            " [ 561.15700871]]\n"
          ],
          "name": "stdout"
        }
      ]
    },
    {
      "cell_type": "code",
      "metadata": {
        "id": "wmkITcFDaKgK"
      },
      "source": [
        "#storing the predictions made in the original test file\n",
        "Test_original.loc[:,'Target']=invscaled_Test"
      ],
      "execution_count": null,
      "outputs": []
    },
    {
      "cell_type": "code",
      "metadata": {
        "id": "7uyZvWzNaKgK",
        "outputId": "013b8939-e456-4618-cd74-6e85ed5a3084"
      },
      "source": [
        "Test_original.head(500)"
      ],
      "execution_count": null,
      "outputs": [
        {
          "output_type": "execute_result",
          "data": {
            "text/html": [
              "<div>\n",
              "<style scoped>\n",
              "    .dataframe tbody tr th:only-of-type {\n",
              "        vertical-align: middle;\n",
              "    }\n",
              "\n",
              "    .dataframe tbody tr th {\n",
              "        vertical-align: top;\n",
              "    }\n",
              "\n",
              "    .dataframe thead th {\n",
              "        text-align: right;\n",
              "    }\n",
              "</style>\n",
              "<table border=\"1\" class=\"dataframe\">\n",
              "  <thead>\n",
              "    <tr style=\"text-align: right;\">\n",
              "      <th></th>\n",
              "      <th>F1</th>\n",
              "      <th>F2</th>\n",
              "      <th>F3</th>\n",
              "      <th>F4</th>\n",
              "      <th>F5</th>\n",
              "      <th>F6</th>\n",
              "      <th>F7</th>\n",
              "      <th>F8</th>\n",
              "      <th>F9</th>\n",
              "      <th>F10</th>\n",
              "      <th>F11</th>\n",
              "      <th>F12</th>\n",
              "      <th>F13</th>\n",
              "      <th>F14</th>\n",
              "      <th>F15</th>\n",
              "      <th>F16</th>\n",
              "      <th>Target</th>\n",
              "    </tr>\n",
              "  </thead>\n",
              "  <tbody>\n",
              "    <tr>\n",
              "      <th>0</th>\n",
              "      <td>596.16</td>\n",
              "      <td>Rest</td>\n",
              "      <td>72.24</td>\n",
              "      <td>6.00</td>\n",
              "      <td>154.48</td>\n",
              "      <td>184.18</td>\n",
              "      <td>226.65</td>\n",
              "      <td>-8.21</td>\n",
              "      <td>18.46</td>\n",
              "      <td>10</td>\n",
              "      <td>6547.48</td>\n",
              "      <td>Very high</td>\n",
              "      <td>9.24</td>\n",
              "      <td>0.69</td>\n",
              "      <td>3</td>\n",
              "      <td>45.06</td>\n",
              "      <td>811.865674</td>\n",
              "    </tr>\n",
              "    <tr>\n",
              "      <th>1</th>\n",
              "      <td>1851.57</td>\n",
              "      <td>Europe</td>\n",
              "      <td>63.09</td>\n",
              "      <td>10.47</td>\n",
              "      <td>200.93</td>\n",
              "      <td>183.48</td>\n",
              "      <td>1101.51</td>\n",
              "      <td>-7.91</td>\n",
              "      <td>3.76</td>\n",
              "      <td>4</td>\n",
              "      <td>-983.62</td>\n",
              "      <td>Medium</td>\n",
              "      <td>8.20</td>\n",
              "      <td>17.90</td>\n",
              "      <td>5</td>\n",
              "      <td>88.64</td>\n",
              "      <td>466.722375</td>\n",
              "    </tr>\n",
              "    <tr>\n",
              "      <th>2</th>\n",
              "      <td>-945.60</td>\n",
              "      <td>USA</td>\n",
              "      <td>71.22</td>\n",
              "      <td>8.25</td>\n",
              "      <td>190.35</td>\n",
              "      <td>243.96</td>\n",
              "      <td>924.93</td>\n",
              "      <td>-6.35</td>\n",
              "      <td>2.48</td>\n",
              "      <td>6</td>\n",
              "      <td>-2366.10</td>\n",
              "      <td>Very high</td>\n",
              "      <td>11.10</td>\n",
              "      <td>329.72</td>\n",
              "      <td>2</td>\n",
              "      <td>-41.36</td>\n",
              "      <td>2357.652350</td>\n",
              "    </tr>\n",
              "    <tr>\n",
              "      <th>3</th>\n",
              "      <td>1153.38</td>\n",
              "      <td>Europe</td>\n",
              "      <td>62.52</td>\n",
              "      <td>7.41</td>\n",
              "      <td>165.21</td>\n",
              "      <td>245.64</td>\n",
              "      <td>1017.09</td>\n",
              "      <td>-5.84</td>\n",
              "      <td>6.58</td>\n",
              "      <td>14</td>\n",
              "      <td>-503.06</td>\n",
              "      <td>High</td>\n",
              "      <td>7.53</td>\n",
              "      <td>0.00</td>\n",
              "      <td>2</td>\n",
              "      <td>-91.60</td>\n",
              "      <td>1399.040246</td>\n",
              "    </tr>\n",
              "    <tr>\n",
              "      <th>4</th>\n",
              "      <td>-261.63</td>\n",
              "      <td>UK</td>\n",
              "      <td>60.87</td>\n",
              "      <td>10.14</td>\n",
              "      <td>201.96</td>\n",
              "      <td>216.28</td>\n",
              "      <td>1350.96</td>\n",
              "      <td>-2.75</td>\n",
              "      <td>4.02</td>\n",
              "      <td>6</td>\n",
              "      <td>19521.62</td>\n",
              "      <td>High</td>\n",
              "      <td>8.99</td>\n",
              "      <td>360.26</td>\n",
              "      <td>4</td>\n",
              "      <td>154.32</td>\n",
              "      <td>268.865470</td>\n",
              "    </tr>\n",
              "    <tr>\n",
              "      <th>...</th>\n",
              "      <td>...</td>\n",
              "      <td>...</td>\n",
              "      <td>...</td>\n",
              "      <td>...</td>\n",
              "      <td>...</td>\n",
              "      <td>...</td>\n",
              "      <td>...</td>\n",
              "      <td>...</td>\n",
              "      <td>...</td>\n",
              "      <td>...</td>\n",
              "      <td>...</td>\n",
              "      <td>...</td>\n",
              "      <td>...</td>\n",
              "      <td>...</td>\n",
              "      <td>...</td>\n",
              "      <td>...</td>\n",
              "      <td>...</td>\n",
              "    </tr>\n",
              "    <tr>\n",
              "      <th>495</th>\n",
              "      <td>1167.30</td>\n",
              "      <td>UK</td>\n",
              "      <td>53.88</td>\n",
              "      <td>12.81</td>\n",
              "      <td>135.72</td>\n",
              "      <td>276.52</td>\n",
              "      <td>-306.24</td>\n",
              "      <td>-10.93</td>\n",
              "      <td>6.72</td>\n",
              "      <td>10</td>\n",
              "      <td>-1034.40</td>\n",
              "      <td>Very high</td>\n",
              "      <td>10.53</td>\n",
              "      <td>0.77</td>\n",
              "      <td>3</td>\n",
              "      <td>-3.26</td>\n",
              "      <td>533.623399</td>\n",
              "    </tr>\n",
              "    <tr>\n",
              "      <th>496</th>\n",
              "      <td>646.35</td>\n",
              "      <td>Rest</td>\n",
              "      <td>72.81</td>\n",
              "      <td>11.49</td>\n",
              "      <td>116.72</td>\n",
              "      <td>217.56</td>\n",
              "      <td>-19.38</td>\n",
              "      <td>-0.48</td>\n",
              "      <td>14.16</td>\n",
              "      <td>8</td>\n",
              "      <td>9722.56</td>\n",
              "      <td>Low</td>\n",
              "      <td>14.62</td>\n",
              "      <td>38.34</td>\n",
              "      <td>4</td>\n",
              "      <td>0.18</td>\n",
              "      <td>628.195536</td>\n",
              "    </tr>\n",
              "    <tr>\n",
              "      <th>497</th>\n",
              "      <td>-249.69</td>\n",
              "      <td>UK</td>\n",
              "      <td>47.37</td>\n",
              "      <td>4.05</td>\n",
              "      <td>189.41</td>\n",
              "      <td>279.60</td>\n",
              "      <td>-233.52</td>\n",
              "      <td>-6.67</td>\n",
              "      <td>16.78</td>\n",
              "      <td>6</td>\n",
              "      <td>7117.72</td>\n",
              "      <td>Low</td>\n",
              "      <td>14.77</td>\n",
              "      <td>0.01</td>\n",
              "      <td>4</td>\n",
              "      <td>65.90</td>\n",
              "      <td>974.600221</td>\n",
              "    </tr>\n",
              "    <tr>\n",
              "      <th>498</th>\n",
              "      <td>587.67</td>\n",
              "      <td>USA</td>\n",
              "      <td>29.43</td>\n",
              "      <td>8.13</td>\n",
              "      <td>190.48</td>\n",
              "      <td>270.20</td>\n",
              "      <td>-453.60</td>\n",
              "      <td>-7.11</td>\n",
              "      <td>12.00</td>\n",
              "      <td>8</td>\n",
              "      <td>10454.74</td>\n",
              "      <td>Medium</td>\n",
              "      <td>11.19</td>\n",
              "      <td>9.84</td>\n",
              "      <td>4</td>\n",
              "      <td>108.82</td>\n",
              "      <td>273.293630</td>\n",
              "    </tr>\n",
              "    <tr>\n",
              "      <th>499</th>\n",
              "      <td>891.21</td>\n",
              "      <td>UK</td>\n",
              "      <td>54.06</td>\n",
              "      <td>10.38</td>\n",
              "      <td>156.13</td>\n",
              "      <td>173.08</td>\n",
              "      <td>2178.90</td>\n",
              "      <td>-7.92</td>\n",
              "      <td>12.12</td>\n",
              "      <td>8</td>\n",
              "      <td>4936.98</td>\n",
              "      <td>High</td>\n",
              "      <td>10.80</td>\n",
              "      <td>3.48</td>\n",
              "      <td>2</td>\n",
              "      <td>96.06</td>\n",
              "      <td>1055.353635</td>\n",
              "    </tr>\n",
              "  </tbody>\n",
              "</table>\n",
              "<p>500 rows × 17 columns</p>\n",
              "</div>"
            ],
            "text/plain": [
              "          F1      F2     F3     F4      F5      F6       F7     F8     F9  \\\n",
              "0     596.16    Rest  72.24   6.00  154.48  184.18   226.65  -8.21  18.46   \n",
              "1    1851.57  Europe  63.09  10.47  200.93  183.48  1101.51  -7.91   3.76   \n",
              "2    -945.60     USA  71.22   8.25  190.35  243.96   924.93  -6.35   2.48   \n",
              "3    1153.38  Europe  62.52   7.41  165.21  245.64  1017.09  -5.84   6.58   \n",
              "4    -261.63      UK  60.87  10.14  201.96  216.28  1350.96  -2.75   4.02   \n",
              "..       ...     ...    ...    ...     ...     ...      ...    ...    ...   \n",
              "495  1167.30      UK  53.88  12.81  135.72  276.52  -306.24 -10.93   6.72   \n",
              "496   646.35    Rest  72.81  11.49  116.72  217.56   -19.38  -0.48  14.16   \n",
              "497  -249.69      UK  47.37   4.05  189.41  279.60  -233.52  -6.67  16.78   \n",
              "498   587.67     USA  29.43   8.13  190.48  270.20  -453.60  -7.11  12.00   \n",
              "499   891.21      UK  54.06  10.38  156.13  173.08  2178.90  -7.92  12.12   \n",
              "\n",
              "     F10       F11        F12    F13     F14  F15     F16       Target  \n",
              "0     10   6547.48  Very high   9.24    0.69    3   45.06   811.865674  \n",
              "1      4   -983.62     Medium   8.20   17.90    5   88.64   466.722375  \n",
              "2      6  -2366.10  Very high  11.10  329.72    2  -41.36  2357.652350  \n",
              "3     14   -503.06       High   7.53    0.00    2  -91.60  1399.040246  \n",
              "4      6  19521.62       High   8.99  360.26    4  154.32   268.865470  \n",
              "..   ...       ...        ...    ...     ...  ...     ...          ...  \n",
              "495   10  -1034.40  Very high  10.53    0.77    3   -3.26   533.623399  \n",
              "496    8   9722.56        Low  14.62   38.34    4    0.18   628.195536  \n",
              "497    6   7117.72        Low  14.77    0.01    4   65.90   974.600221  \n",
              "498    8  10454.74     Medium  11.19    9.84    4  108.82   273.293630  \n",
              "499    8   4936.98       High  10.80    3.48    2   96.06  1055.353635  \n",
              "\n",
              "[500 rows x 17 columns]"
            ]
          },
          "metadata": {
            "tags": []
          },
          "execution_count": 86
        }
      ]
    },
    {
      "cell_type": "code",
      "metadata": {
        "id": "f8fN6LQ7aKgL"
      },
      "source": [
        "Test_original.to_csv(\"C:\\\\Users\\\\Siri\\\\Desktop\\\\CE802\\\\Assignment\\\\CE802_P3_Data\\\\CE802_P3_Test.csv\")"
      ],
      "execution_count": null,
      "outputs": []
    },
    {
      "cell_type": "code",
      "metadata": {
        "id": "TuQlbF5EaKgL"
      },
      "source": [
        ""
      ],
      "execution_count": null,
      "outputs": []
    }
  ]
}